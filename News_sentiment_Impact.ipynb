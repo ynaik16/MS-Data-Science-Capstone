{
  "nbformat": 4,
  "nbformat_minor": 0,
  "metadata": {
    "colab": {
      "name": "News_sentiment_Impact.ipynb",
      "provenance": []
    },
    "kernelspec": {
      "display_name": "Python 3",
      "language": "python",
      "name": "python3"
    },
    "language_info": {
      "codemirror_mode": {
        "name": "ipython",
        "version": 3
      },
      "file_extension": ".py",
      "mimetype": "text/x-python",
      "name": "python",
      "nbconvert_exporter": "python",
      "pygments_lexer": "ipython3",
      "version": "3.8.8"
    }
  },
  "cells": [
    {
      "cell_type": "markdown",
      "metadata": {
        "id": "uGozHS15D--K"
      },
      "source": [
        "# Algorithmic Trading using Machine Learning\n",
        
        "\n",
        "**MS** **in** **Applied** **Data** **Science,** **University** **of** **Southern** **California**\n",
        "\n",
        "Evaluation of the impact of polarity of news sentiment on \"Apple\" keyword on Stock Market Close Price using Feature Correlation Map, SelectKbest Features and Feature Importance Permutations.\n"
      ]
    },
    {
      "cell_type": "code",
      "metadata": {
        "id": "VuUpgBjaCsz6"
      },
      "source": [
        "#Importing Necessary Libraries\n",
        "import tensorflow as tf\n",
        "from tensorflow.keras import layers, models\n",
        "import seaborn as sns\n",
        "import numpy as np\n",
        "import pandas as pd\n",
        "import matplotlib.pyplot as plt\n",
        "%matplotlib inline\n",
        "import warnings\n",
        "warnings.filterwarnings('ignore')"
      ],
      "execution_count": 1,
      "outputs": []
    },
    {
      "cell_type": "code",
      "metadata": {
        "colab": {
          "base_uri": "https://localhost:8080/"
        },
        "id": "ttHAuJ40FLVt",
        "outputId": "635389d8-d75a-42f9-c02a-e3037caa7cf9"
      },
      "source": [
        "#Uploading the files to Google Colab\n",
        "from google.colab import drive\n",
        "drive.mount('/content/drive')"
      ],
      "execution_count": 2,
      "outputs": [
        {
          "output_type": "stream",
          "text": [
            "Drive already mounted at /content/drive; to attempt to forcibly remount, call drive.mount(\"/content/drive\", force_remount=True).\n"
          ],
          "name": "stdout"
        }
      ]
    },
    {
      "cell_type": "markdown",
      "metadata": {
        "id": "Qf2C9o6PGjpV"
      },
      "source": [
        "## **Data Exploration**"
      ]
    },
    {
      "cell_type": "code",
      "metadata": {
        "id": "48_lVFbDLU_n"
      },
      "source": [
        "#Loading the Necessary News Sentiment Files\n",
        "Apple_stock=pd.read_csv('/content/drive/MyDrive/News Sentiment Data/AAPL.csv',index_col=\"Date\",parse_dates=True)\n",
        "Apple_stock.sort_index(inplace = True)\n",
        "start=Apple_stock.index[0]\n",
        "end=Apple_stock.index[-1]"
      ],
      "execution_count": 3,
      "outputs": []
    },
    {
      "cell_type": "code",
      "metadata": {
        "colab": {
          "base_uri": "https://localhost:8080/",
          "height": 450
        },
        "id": "hz0sCaECMuAn",
        "outputId": "a7dec684-736f-41ad-9f77-cc11cb9bfe6b"
      },
      "source": [
        "#Lets have a look at the Apple Stock data\n",
        "Apple_stock"
      ],
      "execution_count": 4,
      "outputs": [
        {
          "output_type": "execute_result",
          "data": {
            "text/html": [
              "<div>\n",
              "<style scoped>\n",
              "    .dataframe tbody tr th:only-of-type {\n",
              "        vertical-align: middle;\n",
              "    }\n",
              "\n",
              "    .dataframe tbody tr th {\n",
              "        vertical-align: top;\n",
              "    }\n",
              "\n",
              "    .dataframe thead th {\n",
              "        text-align: right;\n",
              "    }\n",
              "</style>\n",
              "<table border=\"1\" class=\"dataframe\">\n",
              "  <thead>\n",
              "    <tr style=\"text-align: right;\">\n",
              "      <th></th>\n",
              "      <th>Open</th>\n",
              "      <th>High</th>\n",
              "      <th>Low</th>\n",
              "      <th>Close</th>\n",
              "      <th>Adj Close</th>\n",
              "      <th>Volume</th>\n",
              "    </tr>\n",
              "    <tr>\n",
              "      <th>Date</th>\n",
              "      <th></th>\n",
              "      <th></th>\n",
              "      <th></th>\n",
              "      <th></th>\n",
              "      <th></th>\n",
              "      <th></th>\n",
              "    </tr>\n",
              "  </thead>\n",
              "  <tbody>\n",
              "    <tr>\n",
              "      <th>2000-01-20</th>\n",
              "      <td>1.031250</td>\n",
              "      <td>1.084821</td>\n",
              "      <td>1.013393</td>\n",
              "      <td>1.013393</td>\n",
              "      <td>0.872900</td>\n",
              "      <td>1831132800</td>\n",
              "    </tr>\n",
              "    <tr>\n",
              "      <th>2000-01-21</th>\n",
              "      <td>1.020089</td>\n",
              "      <td>1.020089</td>\n",
              "      <td>0.983817</td>\n",
              "      <td>0.993862</td>\n",
              "      <td>0.856077</td>\n",
              "      <td>495924800</td>\n",
              "    </tr>\n",
              "    <tr>\n",
              "      <th>2000-01-24</th>\n",
              "      <td>0.968192</td>\n",
              "      <td>1.006696</td>\n",
              "      <td>0.938616</td>\n",
              "      <td>0.948661</td>\n",
              "      <td>0.817142</td>\n",
              "      <td>440876800</td>\n",
              "    </tr>\n",
              "    <tr>\n",
              "      <th>2000-01-25</th>\n",
              "      <td>0.937500</td>\n",
              "      <td>1.010045</td>\n",
              "      <td>0.914063</td>\n",
              "      <td>1.002232</td>\n",
              "      <td>0.863286</td>\n",
              "      <td>497145600</td>\n",
              "    </tr>\n",
              "    <tr>\n",
              "      <th>2000-01-26</th>\n",
              "      <td>0.982143</td>\n",
              "      <td>1.019531</td>\n",
              "      <td>0.979911</td>\n",
              "      <td>0.983817</td>\n",
              "      <td>0.847424</td>\n",
              "      <td>367158400</td>\n",
              "    </tr>\n",
              "    <tr>\n",
              "      <th>...</th>\n",
              "      <td>...</td>\n",
              "      <td>...</td>\n",
              "      <td>...</td>\n",
              "      <td>...</td>\n",
              "      <td>...</td>\n",
              "      <td>...</td>\n",
              "    </tr>\n",
              "    <tr>\n",
              "      <th>2021-04-21</th>\n",
              "      <td>132.360001</td>\n",
              "      <td>133.750000</td>\n",
              "      <td>131.300003</td>\n",
              "      <td>133.500000</td>\n",
              "      <td>133.500000</td>\n",
              "      <td>68847100</td>\n",
              "    </tr>\n",
              "    <tr>\n",
              "      <th>2021-04-22</th>\n",
              "      <td>133.039993</td>\n",
              "      <td>134.149994</td>\n",
              "      <td>131.410004</td>\n",
              "      <td>131.940002</td>\n",
              "      <td>131.940002</td>\n",
              "      <td>84566500</td>\n",
              "    </tr>\n",
              "    <tr>\n",
              "      <th>2021-04-23</th>\n",
              "      <td>132.160004</td>\n",
              "      <td>135.119995</td>\n",
              "      <td>132.160004</td>\n",
              "      <td>134.320007</td>\n",
              "      <td>134.320007</td>\n",
              "      <td>78657500</td>\n",
              "    </tr>\n",
              "    <tr>\n",
              "      <th>2021-04-26</th>\n",
              "      <td>134.830002</td>\n",
              "      <td>135.059998</td>\n",
              "      <td>133.559998</td>\n",
              "      <td>134.720001</td>\n",
              "      <td>134.720001</td>\n",
              "      <td>66905100</td>\n",
              "    </tr>\n",
              "    <tr>\n",
              "      <th>2021-04-27</th>\n",
              "      <td>135.009995</td>\n",
              "      <td>135.410004</td>\n",
              "      <td>134.110001</td>\n",
              "      <td>134.389999</td>\n",
              "      <td>134.389999</td>\n",
              "      <td>66015800</td>\n",
              "    </tr>\n",
              "  </tbody>\n",
              "</table>\n",
              "<p>5351 rows × 6 columns</p>\n",
              "</div>"
            ],
            "text/plain": [
              "                  Open        High  ...   Adj Close      Volume\n",
              "Date                                ...                        \n",
              "2000-01-20    1.031250    1.084821  ...    0.872900  1831132800\n",
              "2000-01-21    1.020089    1.020089  ...    0.856077   495924800\n",
              "2000-01-24    0.968192    1.006696  ...    0.817142   440876800\n",
              "2000-01-25    0.937500    1.010045  ...    0.863286   497145600\n",
              "2000-01-26    0.982143    1.019531  ...    0.847424   367158400\n",
              "...                ...         ...  ...         ...         ...\n",
              "2021-04-21  132.360001  133.750000  ...  133.500000    68847100\n",
              "2021-04-22  133.039993  134.149994  ...  131.940002    84566500\n",
              "2021-04-23  132.160004  135.119995  ...  134.320007    78657500\n",
              "2021-04-26  134.830002  135.059998  ...  134.720001    66905100\n",
              "2021-04-27  135.009995  135.410004  ...  134.389999    66015800\n",
              "\n",
              "[5351 rows x 6 columns]"
            ]
          },
          "metadata": {
            "tags": []
          },
          "execution_count": 4
        }
      ]
    },
    {
      "cell_type": "markdown",
      "metadata": {
        "id": "8U3kAdv-M7Yy"
      },
      "source": [
        "**Preparing Stock Data For News Sentiments for \"Apple\" Keyword**\n",
        "\n",
        "\n"
      ]
    },
    {
      "cell_type": "code",
      "metadata": {
        "id": "C_lOwNuXNMDY"
      },
      "source": [
        "#Loading the Necessary News Sentiment Files\n",
        "Apple=pd.read_csv('/content/drive/MyDrive/News Sentiment Data/news-sentiment-index_apple.csv',index_col=\"DateTime\",parse_dates=True)\n",
        "Apple.sort_index(inplace = True)"
      ],
      "execution_count": 5,
      "outputs": []
    },
    {
      "cell_type": "code",
      "metadata": {
        "id": "j66NFui0nW1n"
      },
      "source": [
        "#Renaming the Columns of Data \n",
        "Apple = Apple.rename_axis('Date')\n",
        "Apple.rename(columns = {\"Index\":\"Sentiment\"},inplace=True)\n",
        "Apple.rename(columns = {\"Count\":\"News Count\"},inplace=True)"
      ],
      "execution_count": 6,
      "outputs": []
    },
    {
      "cell_type": "code",
      "metadata": {
        "colab": {
          "base_uri": "https://localhost:8080/",
          "height": 450
        },
        "id": "VdGBTWeMGHp9",
        "outputId": "54df73a0-d15d-4994-defb-f1d86744eeb9"
      },
      "source": [
        "#Quick Look at Sentiment Data\n",
        "Apple"
      ],
      "execution_count": 7,
      "outputs": [
        {
          "output_type": "execute_result",
          "data": {
            "text/html": [
              "<div>\n",
              "<style scoped>\n",
              "    .dataframe tbody tr th:only-of-type {\n",
              "        vertical-align: middle;\n",
              "    }\n",
              "\n",
              "    .dataframe tbody tr th {\n",
              "        vertical-align: top;\n",
              "    }\n",
              "\n",
              "    .dataframe thead th {\n",
              "        text-align: right;\n",
              "    }\n",
              "</style>\n",
              "<table border=\"1\" class=\"dataframe\">\n",
              "  <thead>\n",
              "    <tr style=\"text-align: right;\">\n",
              "      <th></th>\n",
              "      <th>Sentiment</th>\n",
              "      <th>News Count</th>\n",
              "    </tr>\n",
              "    <tr>\n",
              "      <th>Date</th>\n",
              "      <th></th>\n",
              "      <th></th>\n",
              "    </tr>\n",
              "  </thead>\n",
              "  <tbody>\n",
              "    <tr>\n",
              "      <th>2000-01-20</th>\n",
              "      <td>NaN</td>\n",
              "      <td>1</td>\n",
              "    </tr>\n",
              "    <tr>\n",
              "      <th>2000-01-21</th>\n",
              "      <td>NaN</td>\n",
              "      <td>1</td>\n",
              "    </tr>\n",
              "    <tr>\n",
              "      <th>2000-01-22</th>\n",
              "      <td>NaN</td>\n",
              "      <td>0</td>\n",
              "    </tr>\n",
              "    <tr>\n",
              "      <th>2000-01-23</th>\n",
              "      <td>NaN</td>\n",
              "      <td>0</td>\n",
              "    </tr>\n",
              "    <tr>\n",
              "      <th>2000-01-24</th>\n",
              "      <td>NaN</td>\n",
              "      <td>0</td>\n",
              "    </tr>\n",
              "    <tr>\n",
              "      <th>...</th>\n",
              "      <td>...</td>\n",
              "      <td>...</td>\n",
              "    </tr>\n",
              "    <tr>\n",
              "      <th>2021-04-24</th>\n",
              "      <td>-0.009375</td>\n",
              "      <td>42</td>\n",
              "    </tr>\n",
              "    <tr>\n",
              "      <th>2021-04-25</th>\n",
              "      <td>-0.030769</td>\n",
              "      <td>33</td>\n",
              "    </tr>\n",
              "    <tr>\n",
              "      <th>2021-04-26</th>\n",
              "      <td>-0.143478</td>\n",
              "      <td>34</td>\n",
              "    </tr>\n",
              "    <tr>\n",
              "      <th>2021-04-27</th>\n",
              "      <td>-0.117021</td>\n",
              "      <td>145</td>\n",
              "    </tr>\n",
              "    <tr>\n",
              "      <th>2021-04-28</th>\n",
              "      <td>-0.112500</td>\n",
              "      <td>91</td>\n",
              "    </tr>\n",
              "  </tbody>\n",
              "</table>\n",
              "<p>7770 rows × 2 columns</p>\n",
              "</div>"
            ],
            "text/plain": [
              "            Sentiment  News Count\n",
              "Date                             \n",
              "2000-01-20        NaN           1\n",
              "2000-01-21        NaN           1\n",
              "2000-01-22        NaN           0\n",
              "2000-01-23        NaN           0\n",
              "2000-01-24        NaN           0\n",
              "...               ...         ...\n",
              "2021-04-24  -0.009375          42\n",
              "2021-04-25  -0.030769          33\n",
              "2021-04-26  -0.143478          34\n",
              "2021-04-27  -0.117021         145\n",
              "2021-04-28  -0.112500          91\n",
              "\n",
              "[7770 rows x 2 columns]"
            ]
          },
          "metadata": {
            "tags": []
          },
          "execution_count": 7
        }
      ]
    },
    {
      "cell_type": "markdown",
      "metadata": {
        "id": "yD68Y8w-GU2s"
      },
      "source": [
        "Here, I want to show the impact of News Sentiment and Other Features of Stock on Predicting Close Price. Hence, We need to merge 2 dataset"
      ]
    },
    {
      "cell_type": "code",
      "metadata": {
        "colab": {
          "base_uri": "https://localhost:8080/",
          "height": 450
        },
        "id": "3kjp4lP-kfXI",
        "outputId": "126418a8-a668-4d55-88c7-821746824b04"
      },
      "source": [
        "#Merging 2 Dataset: Apple Stock Data and Apple News Sentiment Data\n",
        "apple_merged = Apple.merge(Apple_stock, on='Date', how='left')\n",
        "apple_merged"
      ],
      "execution_count": 8,
      "outputs": [
        {
          "output_type": "execute_result",
          "data": {
            "text/html": [
              "<div>\n",
              "<style scoped>\n",
              "    .dataframe tbody tr th:only-of-type {\n",
              "        vertical-align: middle;\n",
              "    }\n",
              "\n",
              "    .dataframe tbody tr th {\n",
              "        vertical-align: top;\n",
              "    }\n",
              "\n",
              "    .dataframe thead th {\n",
              "        text-align: right;\n",
              "    }\n",
              "</style>\n",
              "<table border=\"1\" class=\"dataframe\">\n",
              "  <thead>\n",
              "    <tr style=\"text-align: right;\">\n",
              "      <th></th>\n",
              "      <th>Sentiment</th>\n",
              "      <th>News Count</th>\n",
              "      <th>Open</th>\n",
              "      <th>High</th>\n",
              "      <th>Low</th>\n",
              "      <th>Close</th>\n",
              "      <th>Adj Close</th>\n",
              "      <th>Volume</th>\n",
              "    </tr>\n",
              "    <tr>\n",
              "      <th>Date</th>\n",
              "      <th></th>\n",
              "      <th></th>\n",
              "      <th></th>\n",
              "      <th></th>\n",
              "      <th></th>\n",
              "      <th></th>\n",
              "      <th></th>\n",
              "      <th></th>\n",
              "    </tr>\n",
              "  </thead>\n",
              "  <tbody>\n",
              "    <tr>\n",
              "      <th>2000-01-20</th>\n",
              "      <td>NaN</td>\n",
              "      <td>1</td>\n",
              "      <td>1.031250</td>\n",
              "      <td>1.084821</td>\n",
              "      <td>1.013393</td>\n",
              "      <td>1.013393</td>\n",
              "      <td>0.872900</td>\n",
              "      <td>1.831133e+09</td>\n",
              "    </tr>\n",
              "    <tr>\n",
              "      <th>2000-01-21</th>\n",
              "      <td>NaN</td>\n",
              "      <td>1</td>\n",
              "      <td>1.020089</td>\n",
              "      <td>1.020089</td>\n",
              "      <td>0.983817</td>\n",
              "      <td>0.993862</td>\n",
              "      <td>0.856077</td>\n",
              "      <td>4.959248e+08</td>\n",
              "    </tr>\n",
              "    <tr>\n",
              "      <th>2000-01-22</th>\n",
              "      <td>NaN</td>\n",
              "      <td>0</td>\n",
              "      <td>NaN</td>\n",
              "      <td>NaN</td>\n",
              "      <td>NaN</td>\n",
              "      <td>NaN</td>\n",
              "      <td>NaN</td>\n",
              "      <td>NaN</td>\n",
              "    </tr>\n",
              "    <tr>\n",
              "      <th>2000-01-23</th>\n",
              "      <td>NaN</td>\n",
              "      <td>0</td>\n",
              "      <td>NaN</td>\n",
              "      <td>NaN</td>\n",
              "      <td>NaN</td>\n",
              "      <td>NaN</td>\n",
              "      <td>NaN</td>\n",
              "      <td>NaN</td>\n",
              "    </tr>\n",
              "    <tr>\n",
              "      <th>2000-01-24</th>\n",
              "      <td>NaN</td>\n",
              "      <td>0</td>\n",
              "      <td>0.968192</td>\n",
              "      <td>1.006696</td>\n",
              "      <td>0.938616</td>\n",
              "      <td>0.948661</td>\n",
              "      <td>0.817142</td>\n",
              "      <td>4.408768e+08</td>\n",
              "    </tr>\n",
              "    <tr>\n",
              "      <th>...</th>\n",
              "      <td>...</td>\n",
              "      <td>...</td>\n",
              "      <td>...</td>\n",
              "      <td>...</td>\n",
              "      <td>...</td>\n",
              "      <td>...</td>\n",
              "      <td>...</td>\n",
              "      <td>...</td>\n",
              "    </tr>\n",
              "    <tr>\n",
              "      <th>2021-04-24</th>\n",
              "      <td>-0.009375</td>\n",
              "      <td>42</td>\n",
              "      <td>NaN</td>\n",
              "      <td>NaN</td>\n",
              "      <td>NaN</td>\n",
              "      <td>NaN</td>\n",
              "      <td>NaN</td>\n",
              "      <td>NaN</td>\n",
              "    </tr>\n",
              "    <tr>\n",
              "      <th>2021-04-25</th>\n",
              "      <td>-0.030769</td>\n",
              "      <td>33</td>\n",
              "      <td>NaN</td>\n",
              "      <td>NaN</td>\n",
              "      <td>NaN</td>\n",
              "      <td>NaN</td>\n",
              "      <td>NaN</td>\n",
              "      <td>NaN</td>\n",
              "    </tr>\n",
              "    <tr>\n",
              "      <th>2021-04-26</th>\n",
              "      <td>-0.143478</td>\n",
              "      <td>34</td>\n",
              "      <td>134.830002</td>\n",
              "      <td>135.059998</td>\n",
              "      <td>133.559998</td>\n",
              "      <td>134.720001</td>\n",
              "      <td>134.720001</td>\n",
              "      <td>6.690510e+07</td>\n",
              "    </tr>\n",
              "    <tr>\n",
              "      <th>2021-04-27</th>\n",
              "      <td>-0.117021</td>\n",
              "      <td>145</td>\n",
              "      <td>135.009995</td>\n",
              "      <td>135.410004</td>\n",
              "      <td>134.110001</td>\n",
              "      <td>134.389999</td>\n",
              "      <td>134.389999</td>\n",
              "      <td>6.601580e+07</td>\n",
              "    </tr>\n",
              "    <tr>\n",
              "      <th>2021-04-28</th>\n",
              "      <td>-0.112500</td>\n",
              "      <td>91</td>\n",
              "      <td>NaN</td>\n",
              "      <td>NaN</td>\n",
              "      <td>NaN</td>\n",
              "      <td>NaN</td>\n",
              "      <td>NaN</td>\n",
              "      <td>NaN</td>\n",
              "    </tr>\n",
              "  </tbody>\n",
              "</table>\n",
              "<p>7770 rows × 8 columns</p>\n",
              "</div>"
            ],
            "text/plain": [
              "            Sentiment  News Count  ...   Adj Close        Volume\n",
              "Date                               ...                          \n",
              "2000-01-20        NaN           1  ...    0.872900  1.831133e+09\n",
              "2000-01-21        NaN           1  ...    0.856077  4.959248e+08\n",
              "2000-01-22        NaN           0  ...         NaN           NaN\n",
              "2000-01-23        NaN           0  ...         NaN           NaN\n",
              "2000-01-24        NaN           0  ...    0.817142  4.408768e+08\n",
              "...               ...         ...  ...         ...           ...\n",
              "2021-04-24  -0.009375          42  ...         NaN           NaN\n",
              "2021-04-25  -0.030769          33  ...         NaN           NaN\n",
              "2021-04-26  -0.143478          34  ...  134.720001  6.690510e+07\n",
              "2021-04-27  -0.117021         145  ...  134.389999  6.601580e+07\n",
              "2021-04-28  -0.112500          91  ...         NaN           NaN\n",
              "\n",
              "[7770 rows x 8 columns]"
            ]
          },
          "metadata": {
            "tags": []
          },
          "execution_count": 8
        }
      ]
    },
    {
      "cell_type": "markdown",
      "metadata": {
        "id": "yoad2lXwH6Dm"
      },
      "source": [
        "As the lenghth of 2 dataset is different, it will append null values at the dates when the stock market was close.\n",
        "Hence, I created a dummy column which include 1 if Stock data is present else 0 when stock market is closed."
      ]
    },
    {
      "cell_type": "code",
      "metadata": {
        "id": "ZfnnPHRLn1gZ"
      },
      "source": [
        "#Creating a Dummy List to Store and it will show '1' When the Stock Data was Present and '0' when there is NaN values\n",
        "dummy_list = []\n",
        "for i in apple_merged.index:\n",
        "  if np.isnan(apple_merged['Open'][i]):\n",
        "    dummy_list.append(0)\n",
        "  else:\n",
        "    dummy_list.append(1)"
      ],
      "execution_count": 9,
      "outputs": []
    },
    {
      "cell_type": "code",
      "metadata": {
        "colab": {
          "base_uri": "https://localhost:8080/",
          "height": 450
        },
        "id": "oelQ_XjRo-Wv",
        "outputId": "96ab1dc2-c67d-439f-85b0-9212bd21ffdb"
      },
      "source": [
        "#Merged Apple Data\n",
        "apple_merged['Stock Data Availability'] = dummy_list\n",
        "apple_merged"
      ],
      "execution_count": 10,
      "outputs": [
        {
          "output_type": "execute_result",
          "data": {
            "text/html": [
              "<div>\n",
              "<style scoped>\n",
              "    .dataframe tbody tr th:only-of-type {\n",
              "        vertical-align: middle;\n",
              "    }\n",
              "\n",
              "    .dataframe tbody tr th {\n",
              "        vertical-align: top;\n",
              "    }\n",
              "\n",
              "    .dataframe thead th {\n",
              "        text-align: right;\n",
              "    }\n",
              "</style>\n",
              "<table border=\"1\" class=\"dataframe\">\n",
              "  <thead>\n",
              "    <tr style=\"text-align: right;\">\n",
              "      <th></th>\n",
              "      <th>Sentiment</th>\n",
              "      <th>News Count</th>\n",
              "      <th>Open</th>\n",
              "      <th>High</th>\n",
              "      <th>Low</th>\n",
              "      <th>Close</th>\n",
              "      <th>Adj Close</th>\n",
              "      <th>Volume</th>\n",
              "      <th>Stock Data Availability</th>\n",
              "    </tr>\n",
              "    <tr>\n",
              "      <th>Date</th>\n",
              "      <th></th>\n",
              "      <th></th>\n",
              "      <th></th>\n",
              "      <th></th>\n",
              "      <th></th>\n",
              "      <th></th>\n",
              "      <th></th>\n",
              "      <th></th>\n",
              "      <th></th>\n",
              "    </tr>\n",
              "  </thead>\n",
              "  <tbody>\n",
              "    <tr>\n",
              "      <th>2000-01-20</th>\n",
              "      <td>NaN</td>\n",
              "      <td>1</td>\n",
              "      <td>1.031250</td>\n",
              "      <td>1.084821</td>\n",
              "      <td>1.013393</td>\n",
              "      <td>1.013393</td>\n",
              "      <td>0.872900</td>\n",
              "      <td>1.831133e+09</td>\n",
              "      <td>1</td>\n",
              "    </tr>\n",
              "    <tr>\n",
              "      <th>2000-01-21</th>\n",
              "      <td>NaN</td>\n",
              "      <td>1</td>\n",
              "      <td>1.020089</td>\n",
              "      <td>1.020089</td>\n",
              "      <td>0.983817</td>\n",
              "      <td>0.993862</td>\n",
              "      <td>0.856077</td>\n",
              "      <td>4.959248e+08</td>\n",
              "      <td>1</td>\n",
              "    </tr>\n",
              "    <tr>\n",
              "      <th>2000-01-22</th>\n",
              "      <td>NaN</td>\n",
              "      <td>0</td>\n",
              "      <td>NaN</td>\n",
              "      <td>NaN</td>\n",
              "      <td>NaN</td>\n",
              "      <td>NaN</td>\n",
              "      <td>NaN</td>\n",
              "      <td>NaN</td>\n",
              "      <td>0</td>\n",
              "    </tr>\n",
              "    <tr>\n",
              "      <th>2000-01-23</th>\n",
              "      <td>NaN</td>\n",
              "      <td>0</td>\n",
              "      <td>NaN</td>\n",
              "      <td>NaN</td>\n",
              "      <td>NaN</td>\n",
              "      <td>NaN</td>\n",
              "      <td>NaN</td>\n",
              "      <td>NaN</td>\n",
              "      <td>0</td>\n",
              "    </tr>\n",
              "    <tr>\n",
              "      <th>2000-01-24</th>\n",
              "      <td>NaN</td>\n",
              "      <td>0</td>\n",
              "      <td>0.968192</td>\n",
              "      <td>1.006696</td>\n",
              "      <td>0.938616</td>\n",
              "      <td>0.948661</td>\n",
              "      <td>0.817142</td>\n",
              "      <td>4.408768e+08</td>\n",
              "      <td>1</td>\n",
              "    </tr>\n",
              "    <tr>\n",
              "      <th>...</th>\n",
              "      <td>...</td>\n",
              "      <td>...</td>\n",
              "      <td>...</td>\n",
              "      <td>...</td>\n",
              "      <td>...</td>\n",
              "      <td>...</td>\n",
              "      <td>...</td>\n",
              "      <td>...</td>\n",
              "      <td>...</td>\n",
              "    </tr>\n",
              "    <tr>\n",
              "      <th>2021-04-24</th>\n",
              "      <td>-0.009375</td>\n",
              "      <td>42</td>\n",
              "      <td>NaN</td>\n",
              "      <td>NaN</td>\n",
              "      <td>NaN</td>\n",
              "      <td>NaN</td>\n",
              "      <td>NaN</td>\n",
              "      <td>NaN</td>\n",
              "      <td>0</td>\n",
              "    </tr>\n",
              "    <tr>\n",
              "      <th>2021-04-25</th>\n",
              "      <td>-0.030769</td>\n",
              "      <td>33</td>\n",
              "      <td>NaN</td>\n",
              "      <td>NaN</td>\n",
              "      <td>NaN</td>\n",
              "      <td>NaN</td>\n",
              "      <td>NaN</td>\n",
              "      <td>NaN</td>\n",
              "      <td>0</td>\n",
              "    </tr>\n",
              "    <tr>\n",
              "      <th>2021-04-26</th>\n",
              "      <td>-0.143478</td>\n",
              "      <td>34</td>\n",
              "      <td>134.830002</td>\n",
              "      <td>135.059998</td>\n",
              "      <td>133.559998</td>\n",
              "      <td>134.720001</td>\n",
              "      <td>134.720001</td>\n",
              "      <td>6.690510e+07</td>\n",
              "      <td>1</td>\n",
              "    </tr>\n",
              "    <tr>\n",
              "      <th>2021-04-27</th>\n",
              "      <td>-0.117021</td>\n",
              "      <td>145</td>\n",
              "      <td>135.009995</td>\n",
              "      <td>135.410004</td>\n",
              "      <td>134.110001</td>\n",
              "      <td>134.389999</td>\n",
              "      <td>134.389999</td>\n",
              "      <td>6.601580e+07</td>\n",
              "      <td>1</td>\n",
              "    </tr>\n",
              "    <tr>\n",
              "      <th>2021-04-28</th>\n",
              "      <td>-0.112500</td>\n",
              "      <td>91</td>\n",
              "      <td>NaN</td>\n",
              "      <td>NaN</td>\n",
              "      <td>NaN</td>\n",
              "      <td>NaN</td>\n",
              "      <td>NaN</td>\n",
              "      <td>NaN</td>\n",
              "      <td>0</td>\n",
              "    </tr>\n",
              "  </tbody>\n",
              "</table>\n",
              "<p>7770 rows × 9 columns</p>\n",
              "</div>"
            ],
            "text/plain": [
              "            Sentiment  News Count  ...        Volume  Stock Data Availability\n",
              "Date                               ...                                       \n",
              "2000-01-20        NaN           1  ...  1.831133e+09                        1\n",
              "2000-01-21        NaN           1  ...  4.959248e+08                        1\n",
              "2000-01-22        NaN           0  ...           NaN                        0\n",
              "2000-01-23        NaN           0  ...           NaN                        0\n",
              "2000-01-24        NaN           0  ...  4.408768e+08                        1\n",
              "...               ...         ...  ...           ...                      ...\n",
              "2021-04-24  -0.009375          42  ...           NaN                        0\n",
              "2021-04-25  -0.030769          33  ...           NaN                        0\n",
              "2021-04-26  -0.143478          34  ...  6.690510e+07                        1\n",
              "2021-04-27  -0.117021         145  ...  6.601580e+07                        1\n",
              "2021-04-28  -0.112500          91  ...           NaN                        0\n",
              "\n",
              "[7770 rows x 9 columns]"
            ]
          },
          "metadata": {
            "tags": []
          },
          "execution_count": 10
        }
      ]
    },
    {
      "cell_type": "markdown",
      "metadata": {
        "id": "pPtayy8LG8KL"
      },
      "source": [
        "**Handling Null Values**"
      ]
    },
    {
      "cell_type": "code",
      "metadata": {
        "colab": {
          "base_uri": "https://localhost:8080/",
          "height": 385
        },
        "id": "bI1QP4khHM7b",
        "outputId": "7b611c6f-2eef-4d34-870f-fdd2b08df6bf"
      },
      "source": [
        "#Plotting the Heat Map to visualize the null values if present in the dataset.\n",
        "sns.heatmap(apple_merged.isnull(),yticklabels=False,cbar=False,cmap='coolwarm')\n"
      ],
      "execution_count": 11,
      "outputs": [
        {
          "output_type": "execute_result",
          "data": {
            "text/plain": [
              "<matplotlib.axes._subplots.AxesSubplot at 0x7f670ee05e50>"
            ]
          },
          "metadata": {
            "tags": []
          },
          "execution_count": 11
        },
        {
          "output_type": "display_data",
          "data": {
            "image/png": "[encoded data removed]",
            "text/plain": [
              "<Figure size 432x288 with 1 Axes>"
            ]
          },
          "metadata": {
            "tags": [],
            "needs_background": "light"
          }
        }
      ]
    },
    {
      "cell_type": "code",
      "metadata": {
        "id": "cMLHxltzOiVw",
        "colab": {
          "base_uri": "https://localhost:8080/",
          "height": 450
        },
        "outputId": "3929a83b-0ac0-4b6b-9660-af591f65bacd"
      },
      "source": [
        "#Filling the NaN values of New Sentiment as '0' in dates when there are no news sentiments\n",
        "apple_merged['Sentiment'] = apple_merged['Sentiment'].fillna(0)\n",
        "apple_merged"
      ],
      "execution_count": 12,
      "outputs": [
        {
          "output_type": "execute_result",
          "data": {
            "text/html": [
              "<div>\n",
              "<style scoped>\n",
              "    .dataframe tbody tr th:only-of-type {\n",
              "        vertical-align: middle;\n",
              "    }\n",
              "\n",
              "    .dataframe tbody tr th {\n",
              "        vertical-align: top;\n",
              "    }\n",
              "\n",
              "    .dataframe thead th {\n",
              "        text-align: right;\n",
              "    }\n",
              "</style>\n",
              "<table border=\"1\" class=\"dataframe\">\n",
              "  <thead>\n",
              "    <tr style=\"text-align: right;\">\n",
              "      <th></th>\n",
              "      <th>Sentiment</th>\n",
              "      <th>News Count</th>\n",
              "      <th>Open</th>\n",
              "      <th>High</th>\n",
              "      <th>Low</th>\n",
              "      <th>Close</th>\n",
              "      <th>Adj Close</th>\n",
              "      <th>Volume</th>\n",
              "      <th>Stock Data Availability</th>\n",
              "    </tr>\n",
              "    <tr>\n",
              "      <th>Date</th>\n",
              "      <th></th>\n",
              "      <th></th>\n",
              "      <th></th>\n",
              "      <th></th>\n",
              "      <th></th>\n",
              "      <th></th>\n",
              "      <th></th>\n",
              "      <th></th>\n",
              "      <th></th>\n",
              "    </tr>\n",
              "  </thead>\n",
              "  <tbody>\n",
              "    <tr>\n",
              "      <th>2000-01-20</th>\n",
              "      <td>0.000000</td>\n",
              "      <td>1</td>\n",
              "      <td>1.031250</td>\n",
              "      <td>1.084821</td>\n",
              "      <td>1.013393</td>\n",
              "      <td>1.013393</td>\n",
              "      <td>0.872900</td>\n",
              "      <td>1.831133e+09</td>\n",
              "      <td>1</td>\n",
              "    </tr>\n",
              "    <tr>\n",
              "      <th>2000-01-21</th>\n",
              "      <td>0.000000</td>\n",
              "      <td>1</td>\n",
              "      <td>1.020089</td>\n",
              "      <td>1.020089</td>\n",
              "      <td>0.983817</td>\n",
              "      <td>0.993862</td>\n",
              "      <td>0.856077</td>\n",
              "      <td>4.959248e+08</td>\n",
              "      <td>1</td>\n",
              "    </tr>\n",
              "    <tr>\n",
              "      <th>2000-01-22</th>\n",
              "      <td>0.000000</td>\n",
              "      <td>0</td>\n",
              "      <td>NaN</td>\n",
              "      <td>NaN</td>\n",
              "      <td>NaN</td>\n",
              "      <td>NaN</td>\n",
              "      <td>NaN</td>\n",
              "      <td>NaN</td>\n",
              "      <td>0</td>\n",
              "    </tr>\n",
              "    <tr>\n",
              "      <th>2000-01-23</th>\n",
              "      <td>0.000000</td>\n",
              "      <td>0</td>\n",
              "      <td>NaN</td>\n",
              "      <td>NaN</td>\n",
              "      <td>NaN</td>\n",
              "      <td>NaN</td>\n",
              "      <td>NaN</td>\n",
              "      <td>NaN</td>\n",
              "      <td>0</td>\n",
              "    </tr>\n",
              "    <tr>\n",
              "      <th>2000-01-24</th>\n",
              "      <td>0.000000</td>\n",
              "      <td>0</td>\n",
              "      <td>0.968192</td>\n",
              "      <td>1.006696</td>\n",
              "      <td>0.938616</td>\n",
              "      <td>0.948661</td>\n",
              "      <td>0.817142</td>\n",
              "      <td>4.408768e+08</td>\n",
              "      <td>1</td>\n",
              "    </tr>\n",
              "    <tr>\n",
              "      <th>...</th>\n",
              "      <td>...</td>\n",
              "      <td>...</td>\n",
              "      <td>...</td>\n",
              "      <td>...</td>\n",
              "      <td>...</td>\n",
              "      <td>...</td>\n",
              "      <td>...</td>\n",
              "      <td>...</td>\n",
              "      <td>...</td>\n",
              "    </tr>\n",
              "    <tr>\n",
              "      <th>2021-04-24</th>\n",
              "      <td>-0.009375</td>\n",
              "      <td>42</td>\n",
              "      <td>NaN</td>\n",
              "      <td>NaN</td>\n",
              "      <td>NaN</td>\n",
              "      <td>NaN</td>\n",
              "      <td>NaN</td>\n",
              "      <td>NaN</td>\n",
              "      <td>0</td>\n",
              "    </tr>\n",
              "    <tr>\n",
              "      <th>2021-04-25</th>\n",
              "      <td>-0.030769</td>\n",
              "      <td>33</td>\n",
              "      <td>NaN</td>\n",
              "      <td>NaN</td>\n",
              "      <td>NaN</td>\n",
              "      <td>NaN</td>\n",
              "      <td>NaN</td>\n",
              "      <td>NaN</td>\n",
              "      <td>0</td>\n",
              "    </tr>\n",
              "    <tr>\n",
              "      <th>2021-04-26</th>\n",
              "      <td>-0.143478</td>\n",
              "      <td>34</td>\n",
              "      <td>134.830002</td>\n",
              "      <td>135.059998</td>\n",
              "      <td>133.559998</td>\n",
              "      <td>134.720001</td>\n",
              "      <td>134.720001</td>\n",
              "      <td>6.690510e+07</td>\n",
              "      <td>1</td>\n",
              "    </tr>\n",
              "    <tr>\n",
              "      <th>2021-04-27</th>\n",
              "      <td>-0.117021</td>\n",
              "      <td>145</td>\n",
              "      <td>135.009995</td>\n",
              "      <td>135.410004</td>\n",
              "      <td>134.110001</td>\n",
              "      <td>134.389999</td>\n",
              "      <td>134.389999</td>\n",
              "      <td>6.601580e+07</td>\n",
              "      <td>1</td>\n",
              "    </tr>\n",
              "    <tr>\n",
              "      <th>2021-04-28</th>\n",
              "      <td>-0.112500</td>\n",
              "      <td>91</td>\n",
              "      <td>NaN</td>\n",
              "      <td>NaN</td>\n",
              "      <td>NaN</td>\n",
              "      <td>NaN</td>\n",
              "      <td>NaN</td>\n",
              "      <td>NaN</td>\n",
              "      <td>0</td>\n",
              "    </tr>\n",
              "  </tbody>\n",
              "</table>\n",
              "<p>7770 rows × 9 columns</p>\n",
              "</div>"
            ],
            "text/plain": [
              "            Sentiment  News Count  ...        Volume  Stock Data Availability\n",
              "Date                               ...                                       \n",
              "2000-01-20   0.000000           1  ...  1.831133e+09                        1\n",
              "2000-01-21   0.000000           1  ...  4.959248e+08                        1\n",
              "2000-01-22   0.000000           0  ...           NaN                        0\n",
              "2000-01-23   0.000000           0  ...           NaN                        0\n",
              "2000-01-24   0.000000           0  ...  4.408768e+08                        1\n",
              "...               ...         ...  ...           ...                      ...\n",
              "2021-04-24  -0.009375          42  ...           NaN                        0\n",
              "2021-04-25  -0.030769          33  ...           NaN                        0\n",
              "2021-04-26  -0.143478          34  ...  6.690510e+07                        1\n",
              "2021-04-27  -0.117021         145  ...  6.601580e+07                        1\n",
              "2021-04-28  -0.112500          91  ...           NaN                        0\n",
              "\n",
              "[7770 rows x 9 columns]"
            ]
          },
          "metadata": {
            "tags": []
          },
          "execution_count": 12
        }
      ]
    },
    {
      "cell_type": "code",
      "metadata": {
        "colab": {
          "base_uri": "https://localhost:8080/",
          "height": 450
        },
        "id": "3MtU43aeEQRZ",
        "outputId": "99492e8b-e43a-42a0-ba8f-3726a1334c30"
      },
      "source": [
        "#Filling the Null Values in Features using Forward Fill Method\n",
        "for i in ['Open', 'High', 'Low', 'Close', 'Adj Close', 'Volume']:\n",
        "    apple_merged[i].fillna(method='ffill', inplace=True)\n",
        "apple_merged"
      ],
      "execution_count": 13,
      "outputs": [
        {
          "output_type": "execute_result",
          "data": {
            "text/html": [
              "<div>\n",
              "<style scoped>\n",
              "    .dataframe tbody tr th:only-of-type {\n",
              "        vertical-align: middle;\n",
              "    }\n",
              "\n",
              "    .dataframe tbody tr th {\n",
              "        vertical-align: top;\n",
              "    }\n",
              "\n",
              "    .dataframe thead th {\n",
              "        text-align: right;\n",
              "    }\n",
              "</style>\n",
              "<table border=\"1\" class=\"dataframe\">\n",
              "  <thead>\n",
              "    <tr style=\"text-align: right;\">\n",
              "      <th></th>\n",
              "      <th>Sentiment</th>\n",
              "      <th>News Count</th>\n",
              "      <th>Open</th>\n",
              "      <th>High</th>\n",
              "      <th>Low</th>\n",
              "      <th>Close</th>\n",
              "      <th>Adj Close</th>\n",
              "      <th>Volume</th>\n",
              "      <th>Stock Data Availability</th>\n",
              "    </tr>\n",
              "    <tr>\n",
              "      <th>Date</th>\n",
              "      <th></th>\n",
              "      <th></th>\n",
              "      <th></th>\n",
              "      <th></th>\n",
              "      <th></th>\n",
              "      <th></th>\n",
              "      <th></th>\n",
              "      <th></th>\n",
              "      <th></th>\n",
              "    </tr>\n",
              "  </thead>\n",
              "  <tbody>\n",
              "    <tr>\n",
              "      <th>2000-01-20</th>\n",
              "      <td>0.000000</td>\n",
              "      <td>1</td>\n",
              "      <td>1.031250</td>\n",
              "      <td>1.084821</td>\n",
              "      <td>1.013393</td>\n",
              "      <td>1.013393</td>\n",
              "      <td>0.872900</td>\n",
              "      <td>1.831133e+09</td>\n",
              "      <td>1</td>\n",
              "    </tr>\n",
              "    <tr>\n",
              "      <th>2000-01-21</th>\n",
              "      <td>0.000000</td>\n",
              "      <td>1</td>\n",
              "      <td>1.020089</td>\n",
              "      <td>1.020089</td>\n",
              "      <td>0.983817</td>\n",
              "      <td>0.993862</td>\n",
              "      <td>0.856077</td>\n",
              "      <td>4.959248e+08</td>\n",
              "      <td>1</td>\n",
              "    </tr>\n",
              "    <tr>\n",
              "      <th>2000-01-22</th>\n",
              "      <td>0.000000</td>\n",
              "      <td>0</td>\n",
              "      <td>1.020089</td>\n",
              "      <td>1.020089</td>\n",
              "      <td>0.983817</td>\n",
              "      <td>0.993862</td>\n",
              "      <td>0.856077</td>\n",
              "      <td>4.959248e+08</td>\n",
              "      <td>0</td>\n",
              "    </tr>\n",
              "    <tr>\n",
              "      <th>2000-01-23</th>\n",
              "      <td>0.000000</td>\n",
              "      <td>0</td>\n",
              "      <td>1.020089</td>\n",
              "      <td>1.020089</td>\n",
              "      <td>0.983817</td>\n",
              "      <td>0.993862</td>\n",
              "      <td>0.856077</td>\n",
              "      <td>4.959248e+08</td>\n",
              "      <td>0</td>\n",
              "    </tr>\n",
              "    <tr>\n",
              "      <th>2000-01-24</th>\n",
              "      <td>0.000000</td>\n",
              "      <td>0</td>\n",
              "      <td>0.968192</td>\n",
              "      <td>1.006696</td>\n",
              "      <td>0.938616</td>\n",
              "      <td>0.948661</td>\n",
              "      <td>0.817142</td>\n",
              "      <td>4.408768e+08</td>\n",
              "      <td>1</td>\n",
              "    </tr>\n",
              "    <tr>\n",
              "      <th>...</th>\n",
              "      <td>...</td>\n",
              "      <td>...</td>\n",
              "      <td>...</td>\n",
              "      <td>...</td>\n",
              "      <td>...</td>\n",
              "      <td>...</td>\n",
              "      <td>...</td>\n",
              "      <td>...</td>\n",
              "      <td>...</td>\n",
              "    </tr>\n",
              "    <tr>\n",
              "      <th>2021-04-24</th>\n",
              "      <td>-0.009375</td>\n",
              "      <td>42</td>\n",
              "      <td>132.160004</td>\n",
              "      <td>135.119995</td>\n",
              "      <td>132.160004</td>\n",
              "      <td>134.320007</td>\n",
              "      <td>134.320007</td>\n",
              "      <td>7.865750e+07</td>\n",
              "      <td>0</td>\n",
              "    </tr>\n",
              "    <tr>\n",
              "      <th>2021-04-25</th>\n",
              "      <td>-0.030769</td>\n",
              "      <td>33</td>\n",
              "      <td>132.160004</td>\n",
              "      <td>135.119995</td>\n",
              "      <td>132.160004</td>\n",
              "      <td>134.320007</td>\n",
              "      <td>134.320007</td>\n",
              "      <td>7.865750e+07</td>\n",
              "      <td>0</td>\n",
              "    </tr>\n",
              "    <tr>\n",
              "      <th>2021-04-26</th>\n",
              "      <td>-0.143478</td>\n",
              "      <td>34</td>\n",
              "      <td>134.830002</td>\n",
              "      <td>135.059998</td>\n",
              "      <td>133.559998</td>\n",
              "      <td>134.720001</td>\n",
              "      <td>134.720001</td>\n",
              "      <td>6.690510e+07</td>\n",
              "      <td>1</td>\n",
              "    </tr>\n",
              "    <tr>\n",
              "      <th>2021-04-27</th>\n",
              "      <td>-0.117021</td>\n",
              "      <td>145</td>\n",
              "      <td>135.009995</td>\n",
              "      <td>135.410004</td>\n",
              "      <td>134.110001</td>\n",
              "      <td>134.389999</td>\n",
              "      <td>134.389999</td>\n",
              "      <td>6.601580e+07</td>\n",
              "      <td>1</td>\n",
              "    </tr>\n",
              "    <tr>\n",
              "      <th>2021-04-28</th>\n",
              "      <td>-0.112500</td>\n",
              "      <td>91</td>\n",
              "      <td>135.009995</td>\n",
              "      <td>135.410004</td>\n",
              "      <td>134.110001</td>\n",
              "      <td>134.389999</td>\n",
              "      <td>134.389999</td>\n",
              "      <td>6.601580e+07</td>\n",
              "      <td>0</td>\n",
              "    </tr>\n",
              "  </tbody>\n",
              "</table>\n",
              "<p>7770 rows × 9 columns</p>\n",
              "</div>"
            ],
            "text/plain": [
              "            Sentiment  News Count  ...        Volume  Stock Data Availability\n",
              "Date                               ...                                       \n",
              "2000-01-20   0.000000           1  ...  1.831133e+09                        1\n",
              "2000-01-21   0.000000           1  ...  4.959248e+08                        1\n",
              "2000-01-22   0.000000           0  ...  4.959248e+08                        0\n",
              "2000-01-23   0.000000           0  ...  4.959248e+08                        0\n",
              "2000-01-24   0.000000           0  ...  4.408768e+08                        1\n",
              "...               ...         ...  ...           ...                      ...\n",
              "2021-04-24  -0.009375          42  ...  7.865750e+07                        0\n",
              "2021-04-25  -0.030769          33  ...  7.865750e+07                        0\n",
              "2021-04-26  -0.143478          34  ...  6.690510e+07                        1\n",
              "2021-04-27  -0.117021         145  ...  6.601580e+07                        1\n",
              "2021-04-28  -0.112500          91  ...  6.601580e+07                        0\n",
              "\n",
              "[7770 rows x 9 columns]"
            ]
          },
          "metadata": {
            "tags": []
          },
          "execution_count": 13
        }
      ]
    },
    {
      "cell_type": "markdown",
      "metadata": {
        "id": "o9Nqn62GHykL"
      },
      "source": [
        "**Feature Correlation**"
      ]
    },
    {
      "cell_type": "code",
      "metadata": {
        "colab": {
          "base_uri": "https://localhost:8080/",
          "height": 480
        },
        "id": "gRtYGNNWEQRa",
        "outputId": "18716e2e-c939-4dfe-a79d-ffd7442296a0"
      },
      "source": [
        "#Visualization of Correlation using Heat Map\n",
        "import seaborn as sns\n",
        "corrmat= apple_merged.corr()\n",
        "top_features=corrmat.index\n",
        "plt.figure(figsize=(8,6))\n",
        "g=sns.heatmap(apple_merged[top_features].corr(), cmap='YlGnBu',annot=True,linewidths=.5)"
      ],
      "execution_count": 14,
      "outputs": [
        {
          "output_type": "display_data",
          "data": {
            "image/png": "[encoded data removed]",
            "text/plain": [
              "<Figure size 576x432 with 2 Axes>"
            ]
          },
          "metadata": {
            "tags": [],
            "needs_background": "light"
          }
        }
      ]
    },
    {
      "cell_type": "markdown",
      "metadata": {
        "id": "9y5u40YHIQur"
      },
      "source": [
        "## **Model Selection**"
      ]
    },
    {
      "cell_type": "code",
      "metadata": {
        "id": "83kdGAeqEQRb"
      },
      "source": [
        "#First, we change the order of the features and we put the depedent variable at the star\n",
        "features = ['Close','Sentiment', 'News Count', 'Stock Data Availability']"
      ],
      "execution_count": 15,
      "outputs": []
    },
    {
      "cell_type": "code",
      "metadata": {
        "colab": {
          "base_uri": "https://localhost:8080/",
          "height": 111
        },
        "id": "M4JHs-ciEQRb",
        "outputId": "5e748e46-9c3a-4f35-c139-0d124a4e2cf8"
      },
      "source": [
        "#Reset the order of Columns\n",
        "apple_merged = apple_merged.reindex(columns = features ) \n",
        "apple_merged.head(1)"
      ],
      "execution_count": 16,
      "outputs": [
        {
          "output_type": "execute_result",
          "data": {
            "text/html": [
              "<div>\n",
              "<style scoped>\n",
              "    .dataframe tbody tr th:only-of-type {\n",
              "        vertical-align: middle;\n",
              "    }\n",
              "\n",
              "    .dataframe tbody tr th {\n",
              "        vertical-align: top;\n",
              "    }\n",
              "\n",
              "    .dataframe thead th {\n",
              "        text-align: right;\n",
              "    }\n",
              "</style>\n",
              "<table border=\"1\" class=\"dataframe\">\n",
              "  <thead>\n",
              "    <tr style=\"text-align: right;\">\n",
              "      <th></th>\n",
              "      <th>Close</th>\n",
              "      <th>Sentiment</th>\n",
              "      <th>News Count</th>\n",
              "      <th>Stock Data Availability</th>\n",
              "    </tr>\n",
              "    <tr>\n",
              "      <th>Date</th>\n",
              "      <th></th>\n",
              "      <th></th>\n",
              "      <th></th>\n",
              "      <th></th>\n",
              "    </tr>\n",
              "  </thead>\n",
              "  <tbody>\n",
              "    <tr>\n",
              "      <th>2000-01-20</th>\n",
              "      <td>1.013393</td>\n",
              "      <td>0.0</td>\n",
              "      <td>1</td>\n",
              "      <td>1</td>\n",
              "    </tr>\n",
              "  </tbody>\n",
              "</table>\n",
              "</div>"
            ],
            "text/plain": [
              "               Close  Sentiment  News Count  Stock Data Availability\n",
              "Date                                                                \n",
              "2000-01-20  1.013393        0.0           1                        1"
            ]
          },
          "metadata": {
            "tags": []
          },
          "execution_count": 16
        }
      ]
    },
    {
      "cell_type": "markdown",
      "metadata": {
        "id": "LudXIcrqNuKp"
      },
      "source": [
        "**Select-K-Best Features**"
      ]
    },
    {
      "cell_type": "code",
      "metadata": {
        "id": "45wmMgA6OzhO"
      },
      "source": [
        "#Importing Necessary Libraries\n",
        "from sklearn.feature_selection import SelectKBest\n",
        "from sklearn.feature_selection import mutual_info_regression"
      ],
      "execution_count": 17,
      "outputs": []
    },
    {
      "cell_type": "code",
      "metadata": {
        "id": "llPFsMrpO7aC"
      },
      "source": [
        "#Creating Select K-Best Function\n",
        "def select_features(Xf_train, yf_train):\n",
        "    # configure to select all features\n",
        "    fs = SelectKBest(score_func=mutual_info_regression, k='all')\n",
        "    # learn relationship from training data\n",
        "    fs.fit(Xf_train, yf_train)\n",
        "    return fs"
      ],
      "execution_count": 18,
      "outputs": []
    },
    {
      "cell_type": "code",
      "metadata": {
        "id": "lUo0WFyCPBPV"
      },
      "source": [
        "#Taking Features W.R.T 'Close Price'\n",
        "K_features= select_features(apple_merged[features[1:]],apple_merged['Close'])"
      ],
      "execution_count": 19,
      "outputs": []
    },
    {
      "cell_type": "code",
      "metadata": {
        "colab": {
          "base_uri": "https://localhost:8080/",
          "height": 390
        },
        "id": "1LA3XbW4PA3I",
        "outputId": "22723236-a2f9-463d-c51b-5aea5e613fc5"
      },
      "source": [
        "#Feature Importance Visualization\n",
        "from matplotlib import pyplot\n",
        "pyplot.figure(figsize=(8, 6))\n",
        "pyplot.bar([i for i in features[1:]], K_features.scores_)\n",
        "pyplot.title(\"Impact of News Sentiment on Close Price\")\n",
        "pyplot.show()"
      ],
      "execution_count": 20,
      "outputs": [
        {
          "output_type": "display_data",
          "data": {
            "image/png": "[encoded data removed]",
            "text/plain": [
              "<Figure size 576x432 with 1 Axes>"
            ]
          },
          "metadata": {
            "tags": [],
            "needs_background": "light"
          }
        }
      ]
    },
    {
      "cell_type": "code",
      "metadata": {
        "id": "QBct9OVDEQRb"
      },
      "source": [
        "#Splitting the data into dependent and independent features\n",
        "X=apple_merged.iloc[:,1:]\n",
        "#Predicting the Close price of data\n",
        "y=apple_merged.iloc[:,:1]"
      ],
      "execution_count": 21,
      "outputs": []
    },
    {
      "cell_type": "code",
      "metadata": {
        "id": "Psoi2CELEQRc"
      },
      "source": [
        "#Performing Test-Train-Valid Split in the dataset\n",
        "from sklearn.model_selection import train_test_split\n",
        "X_train, X_test, y_train, y_test = train_test_split(X, y, test_size = 0.3, random_state = 43)\n",
        "X_val, X_test, y_val, y_test = train_test_split(X_test, y_test, test_size=0.50, random_state=43)"
      ],
      "execution_count": 22,
      "outputs": []
    },
    {
      "cell_type": "markdown",
      "metadata": {
        "id": "Uzrfq-45I2sS"
      },
      "source": [
        "**RandomForestRegressor**"
      ]
    },
    {
      "cell_type": "code",
      "metadata": {
        "colab": {
          "base_uri": "https://localhost:8080/"
        },
        "id": "klRpOA7yEQRc",
        "outputId": "c48be077-127e-46bb-c0d5-d44b5c7586db"
      },
      "source": [
        "#RandomForestRegressor\n",
        "from sklearn.ensemble import RandomForestRegressor\n",
        "\n",
        "# Creating and Fitting the random forest model on Training Set of the data\n",
        "rf = RandomForestRegressor()\n",
        "rf.fit(X_train,y_train)"
      ],
      "execution_count": 23,
      "outputs": [
        {
          "output_type": "execute_result",
          "data": {
            "text/plain": [
              "RandomForestRegressor(bootstrap=True, ccp_alpha=0.0, criterion='mse',\n",
              "                      max_depth=None, max_features='auto', max_leaf_nodes=None,\n",
              "                      max_samples=None, min_impurity_decrease=0.0,\n",
              "                      min_impurity_split=None, min_samples_leaf=1,\n",
              "                      min_samples_split=2, min_weight_fraction_leaf=0.0,\n",
              "                      n_estimators=100, n_jobs=None, oob_score=False,\n",
              "                      random_state=None, verbose=0, warm_start=False)"
            ]
          },
          "metadata": {
            "tags": []
          },
          "execution_count": 23
        }
      ]
    },
    {
      "cell_type": "code",
      "metadata": {
        "id": "pHmYRcYhEQRc"
      },
      "source": [
        "# Predicting the stock price value for Apple Close Price using random forest model\n",
        "pred_train = rf.predict(X_train)\n",
        "pred_test = rf.predict(X_test)\n",
        "pred_valid = rf.predict(X_val)"
      ],
      "execution_count": 24,
      "outputs": []
    },
    {
      "cell_type": "code",
      "metadata": {
        "colab": {
          "base_uri": "https://localhost:8080/"
        },
        "id": "fawL45t1JWJj",
        "outputId": "c1848892-43aa-417f-9031-fd35f7c197e8"
      },
      "source": [
        "#Predicted Values on Test Data\n",
        "pred_test"
      ],
      "execution_count": 25,
      "outputs": [
        {
          "output_type": "execute_result",
          "data": {
            "text/plain": [
              "array([  3.71296805, 100.47999934,  62.82633469, ...,   3.71296805,\n",
              "        26.80847071,   6.65718029])"
            ]
          },
          "metadata": {
            "tags": []
          },
          "execution_count": 25
        }
      ]
    },
    {
      "cell_type": "markdown",
      "metadata": {
        "id": "IFEwjxvMJrSS"
      },
      "source": [
        "## **Model Evaluation**"
      ]
    },
    {
      "cell_type": "markdown",
      "metadata": {
        "id": "ACR5e1AlKPO9"
      },
      "source": [
        "**Root Mean Squared Error**"
      ]
    },
    {
      "cell_type": "code",
      "metadata": {
        "colab": {
          "base_uri": "https://localhost:8080/"
        },
        "id": "WaoTMkLdEQRd",
        "outputId": "25c603bd-b82e-4d21-cf2f-7e27764bb427"
      },
      "source": [
        "# Using Root Mean Squared Error Metrics for Model Evaluation\n",
        "from sklearn.metrics import mean_squared_error\n",
        "train_RMSE = np.sqrt(mean_squared_error(y_train,pred_train))\n",
        "test_RMSE = np.sqrt(mean_squared_error(y_test,pred_test))\n",
        "val_RMSE = np.sqrt(mean_squared_error(y_val,pred_valid))\n",
        "\n",
        "#Printing RMSE Values\n",
        "train_RMSE, test_RMSE, val_RMSE"
      ],
      "execution_count": 26,
      "outputs": [
        {
          "output_type": "execute_result",
          "data": {
            "text/plain": [
              "(12.556429203742999, 16.17528570948949, 16.696708710254455)"
            ]
          },
          "metadata": {
            "tags": []
          },
          "execution_count": 26
        }
      ]
    },
    {
      "cell_type": "markdown",
      "metadata": {
        "id": "4qi5ued-KV-t"
      },
      "source": [
        "**Mean Absolute Error**"
      ]
    },
    {
      "cell_type": "code",
      "metadata": {
        "colab": {
          "base_uri": "https://localhost:8080/"
        },
        "id": "MbKL4FkFKU_P",
        "outputId": "858ca32f-3707-4a6b-b81e-3ff91fde9e01"
      },
      "source": [
        "#Calculating Mean Absolute Error on Train, Val and Test Data\n",
        "from sklearn.metrics import mean_absolute_error\n",
        "train_MAE = mean_absolute_error(y_train, pred_train)\n",
        "test_MAE = mean_absolute_error(y_test, pred_test)\n",
        "val_MAE = mean_absolute_error(y_val, pred_valid)\n",
        "\n",
        "#Printing MAE Values\n",
        "train_MAE, test_MAE, val_MAE"
      ],
      "execution_count": 27,
      "outputs": [
        {
          "output_type": "execute_result",
          "data": {
            "text/plain": [
              "(7.250682236660498, 9.796012054606889, 9.735478283842056)"
            ]
          },
          "metadata": {
            "tags": []
          },
          "execution_count": 27
        }
      ]
    },
    {
      "cell_type": "code",
      "metadata": {
        "id": "yeGnEhaGEQRe"
      },
      "source": [
        "#Creating the target vs prediction dataframe for each set of data for random forest model\n",
        "\n",
        "train = pd.DataFrame()\n",
        "train['target'] = y_train['Close']\n",
        "train['predicted']=pred_train\n",
        "\n",
        "test= pd.DataFrame()\n",
        "test['target'] = y_test['Close']\n",
        "test['predicted']=pred_test"
      ],
      "execution_count": 28,
      "outputs": []
    },
    {
      "cell_type": "code",
      "metadata": {
        "colab": {
          "base_uri": "https://localhost:8080/"
        },
        "id": "OfPwFGjsEQRf",
        "outputId": "4d6ba0b1-5c8c-45c9-84f9-6772860b096c"
      },
      "source": [
        "#Train vs Predicted Close Price\n",
        "train, test"
      ],
      "execution_count": 29,
      "outputs": [
        {
          "output_type": "execute_result",
          "data": {
            "text/plain": [
              "(               target  predicted\n",
              " Date                            \n",
              " 2001-12-24   0.381429   3.712968\n",
              " 2011-06-15  11.669643   3.712968\n",
              " 2005-05-24   1.417857   3.712968\n",
              " 2015-08-06  28.782499  20.988972\n",
              " 2000-02-27   0.985491   6.657180\n",
              " ...               ...        ...\n",
              " 2017-01-12  29.812500  33.519025\n",
              " 2006-06-02   2.202143   3.712968\n",
              " 2006-05-11   2.433929   3.712968\n",
              " 2009-05-04   4.716786   3.712968\n",
              " 2016-05-11  23.127501  23.712617\n",
              " \n",
              " [5439 rows x 2 columns],                target   predicted\n",
              " Date                             \n",
              " 2001-04-17   0.364286    3.712968\n",
              " 2018-06-04  47.957500  100.479999\n",
              " 2016-12-17  28.992500   62.826335\n",
              " 2008-05-31   6.741071    6.657180\n",
              " 2009-02-25   3.255714    3.712968\n",
              " ...               ...         ...\n",
              " 2011-11-15  13.886786   25.258755\n",
              " 2010-04-05   8.517500   30.127258\n",
              " 2008-06-04   6.613929    3.712968\n",
              " 2010-04-16   8.835714   26.808471\n",
              " 2010-11-28  11.250000    6.657180\n",
              " \n",
              " [1166 rows x 2 columns])"
            ]
          },
          "metadata": {
            "tags": []
          },
          "execution_count": 29
        }
      ]
    },
    {
      "cell_type": "code",
      "metadata": {
        "colab": {
          "base_uri": "https://localhost:8080/",
          "height": 465
        },
        "id": "5R54ONXAEQRf",
        "outputId": "66193764-7652-441e-a430-3cc8c52fd969"
      },
      "source": [
        "#Visualization of Train vs. Test Prediction\n",
        "test[['target','predicted']].plot(figsize=(12,8)).autoscale(axis='x',tight=True);"
      ],
      "execution_count": 30,
      "outputs": [
        {
          "output_type": "display_data",
          "data": {
            "image/png": "[encoded data removed]",
            "text/plain": [
              "<Figure size 864x576 with 1 Axes>"
            ]
          },
          "metadata": {
            "tags": [],
            "needs_background": "light"
          }
        }
      ]
    },
    {
      "cell_type": "markdown",
      "metadata": {
        "id": "0Hwnxv_fNTPF"
      },
      "source": [
        "**Feature Importance Permutation**"
      ]
    },
    {
      "cell_type": "code",
      "metadata": {
        "colab": {
          "base_uri": "https://localhost:8080/"
        },
        "id": "Y_aDWR_SEQRg",
        "outputId": "47953a2a-f0fc-46e0-dea7-37dfec05905f"
      },
      "source": [
        "from sklearn.inspection import permutation_importance\n",
        "\n",
        "#importance of each feature of News Sentiments Data \n",
        "col_list = X_train.columns\n",
        "rfp = permutation_importance(rf,X_train, y_train,n_repeats=30,random_state=43)\n",
        "print(\"Feature Importance Permutation of Close Price\\n\")\n",
        "imp = []\n",
        "std = []\n",
        "cols = []\n",
        "for i in rfp.importances_mean.argsort()[::-1]:\n",
        "    if rfp.importances_mean[i] - 2 * rfp.importances_std[i] > 0:\n",
        "        print(f\"{col_list[i]:<8}\\t\\t\"\n",
        "              f\"{rfp.importances_mean[i]:.3f}\"\n",
        "              f\" +/- {rfp.importances_std[i]:.3f}\")\n",
        "        cols.append(col_list[i])\n",
        "        imp.append(rfp.importances_mean[i])\n",
        "        std.append(rfp.importances_std[i])"
      ],
      "execution_count": 65,
      "outputs": [
        {
          "output_type": "stream",
          "text": [
            "Feature Importance Permutation of Close Price\n",
            "\n",
            "News Count\t\t1.579 +/- 0.025\n",
            "Stock Data Availability\t\t0.168 +/- 0.009\n",
            "Sentiment\t\t0.159 +/- 0.004\n"
          ],
          "name": "stdout"
        }
      ]
    },
    {
      "cell_type": "code",
      "metadata": {
        "colab": {
          "base_uri": "https://localhost:8080/"
        },
        "id": "XZ_7yV31riZY",
        "outputId": "e3470f36-2aa3-44c1-d9bc-7ec48d1cc94e"
      },
      "source": [
        "#Permutation Importance\n",
        "print(\"Permutation Importance:\",imp)"
      ],
      "execution_count": 66,
      "outputs": [
        {
          "output_type": "stream",
          "text": [
            "Permutation Importance: [1.5792081612508537, 0.16764155777616077, 0.15922684251171024]\n"
          ],
          "name": "stdout"
        }
      ]
    },
    {
      "cell_type": "code",
      "metadata": {
        "colab": {
          "base_uri": "https://localhost:8080/"
        },
        "id": "56r4djSBterC",
        "outputId": "1f231b26-81d2-48ba-a4ef-317fe2972c0e"
      },
      "source": [
        "#Standard Deviation\n",
        "print(\"Standard Deviation:\",std)"
      ],
      "execution_count": 67,
      "outputs": [
        {
          "output_type": "stream",
          "text": [
            "Standard Deviation: [0.025409017412171195, 0.009065349513691128, 0.004469545142203481]\n"
          ],
          "name": "stdout"
        }
      ]
    },
    {
      "cell_type": "code",
      "metadata": {
        "colab": {
          "base_uri": "https://localhost:8080/",
          "height": 390
        },
        "id": "pg8stRXqsL0E",
        "outputId": "6376b626-7085-46fc-f2c2-a6c1fd90f883"
      },
      "source": [
        "#Visualization of Feature Permutation Importance\n",
        "plt.figure(figsize=(8, 6))\n",
        "plt.title(\"Feature Permutation Importance of Close Price\")\n",
        "plt.bar(cols, imp, yerr=std, facecolor=\"orange\")\n",
        "plt.show()"
      ],
      "execution_count": 68,
      "outputs": [
        {
          "output_type": "display_data",
          "data": {
            "image/png": "[encoded data removed]",
            "text/plain": [
              "<Figure size 576x432 with 1 Axes>"
            ]
          },
          "metadata": {
            "tags": [],
            "needs_background": "light"
          }
        }
      ]
    }
  ]
}