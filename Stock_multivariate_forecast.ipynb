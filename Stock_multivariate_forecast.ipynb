{
  "nbformat": 4,
  "nbformat_minor": 0,
  "metadata": {
    "colab": {
      "name": "Stock_multivariate_forecast.ipynb",
      "provenance": [],
      "collapsed_sections": []
    },
    "kernelspec": {
      "name": "python3",
      "display_name": "Python 3"
    }
  },
  "cells": [
    {
      "cell_type": "markdown",
      "metadata": {
        "id": "mxScnBbqBMXe"
      },
      "source": [
        "# Algorithmic Trading using Machine Learning\n",
       
        "\n",
        "**MS** **in** **Applied** **Data** **Science,** **University** **of** **Southern** **California**\n",
        "\n",
        "\n",
        "Here, I will be forecasting the Close price of Next few days in a single time using Multivariate Time Series Forecasting with LSTM Architecture"
      ]
    },
    {
      "cell_type": "markdown",
      "metadata": {
        "id": "NifdrCj5ZEMz"
      },
      "source": [
        "\n",
        "**MULTIVARIATE STOCK MARKET PRICE PREDICTION USING LSTM**"
      ]
    },
    {
      "cell_type": "code",
      "metadata": {
        "id": "0GonY2UOY0co"
      },
      "source": [
        "#Importing Necessary Libraries \n",
        "import pandas as pd\n",
        "import numpy as np\n",
        "import matplotlib.pyplot as plt\n",
        "#plt.style.use(\"fivethirtyeight\")\n",
        "import pandas_datareader as pdr\n",
        "import datetime as dt\n",
        "from datetime import datetime"
      ],
      "execution_count": 1,
      "outputs": []
    },
    {
      "cell_type": "code",
      "metadata": {
        "id": "zb_1a3xBZuiW",
        "colab": {
          "base_uri": "https://localhost:8080/"
        },
        "outputId": "f65be30f-525d-46e1-81fc-253134097f01"
      },
      "source": [
        "#Fetching the Stock Data\n",
        "end=datetime.now()\n",
        "start=datetime(end.year - 5, end.month, end.day)\n",
        "stock_data=pdr.DataReader(\"CIDM\", data_source=\"yahoo\",start=start,end=end)\n",
        "stock_data.shape"
      ],
      "execution_count": 2,
      "outputs": [
        {
          "output_type": "execute_result",
          "data": {
            "text/plain": [
              "(1259, 6)"
            ]
          },
          "metadata": {
            "tags": []
          },
          "execution_count": 2
        }
      ]
    },
    {
      "cell_type": "markdown",
      "metadata": {
        "id": "5hj7cOYAwt_W"
      },
      "source": [
        "# Data Exploration"
      ]
    },
    {
      "cell_type": "code",
      "metadata": {
        "colab": {
          "base_uri": "https://localhost:8080/",
          "height": 235
        },
        "id": "D6ZhTWgv9DU2",
        "outputId": "1fbd0b2b-c860-4653-fd14-626f92ed27f2"
      },
      "source": [
        "#CIDM Stock Data \n",
        "stock_data.head()"
      ],
      "execution_count": 3,
      "outputs": [
        {
          "output_type": "execute_result",
          "data": {
            "text/html": [
              "<div>\n",
              "<style scoped>\n",
              "    .dataframe tbody tr th:only-of-type {\n",
              "        vertical-align: middle;\n",
              "    }\n",
              "\n",
              "    .dataframe tbody tr th {\n",
              "        vertical-align: top;\n",
              "    }\n",
              "\n",
              "    .dataframe thead th {\n",
              "        text-align: right;\n",
              "    }\n",
              "</style>\n",
              "<table border=\"1\" class=\"dataframe\">\n",
              "  <thead>\n",
              "    <tr style=\"text-align: right;\">\n",
              "      <th></th>\n",
              "      <th>High</th>\n",
              "      <th>Low</th>\n",
              "      <th>Open</th>\n",
              "      <th>Close</th>\n",
              "      <th>Volume</th>\n",
              "      <th>Adj Close</th>\n",
              "    </tr>\n",
              "    <tr>\n",
              "      <th>Date</th>\n",
              "      <th></th>\n",
              "      <th></th>\n",
              "      <th></th>\n",
              "      <th></th>\n",
              "      <th></th>\n",
              "      <th></th>\n",
              "    </tr>\n",
              "  </thead>\n",
              "  <tbody>\n",
              "    <tr>\n",
              "      <th>2016-05-02</th>\n",
              "      <td>2.2</td>\n",
              "      <td>1.8</td>\n",
              "      <td>1.8</td>\n",
              "      <td>2.0</td>\n",
              "      <td>53950.0</td>\n",
              "      <td>2.0</td>\n",
              "    </tr>\n",
              "    <tr>\n",
              "      <th>2016-05-03</th>\n",
              "      <td>2.1</td>\n",
              "      <td>2.0</td>\n",
              "      <td>2.1</td>\n",
              "      <td>2.1</td>\n",
              "      <td>26080.0</td>\n",
              "      <td>2.1</td>\n",
              "    </tr>\n",
              "    <tr>\n",
              "      <th>2016-05-04</th>\n",
              "      <td>2.7</td>\n",
              "      <td>2.0</td>\n",
              "      <td>2.2</td>\n",
              "      <td>2.7</td>\n",
              "      <td>186860.0</td>\n",
              "      <td>2.7</td>\n",
              "    </tr>\n",
              "    <tr>\n",
              "      <th>2016-05-05</th>\n",
              "      <td>2.7</td>\n",
              "      <td>2.2</td>\n",
              "      <td>2.7</td>\n",
              "      <td>2.2</td>\n",
              "      <td>65730.0</td>\n",
              "      <td>2.2</td>\n",
              "    </tr>\n",
              "    <tr>\n",
              "      <th>2016-05-06</th>\n",
              "      <td>2.2</td>\n",
              "      <td>2.1</td>\n",
              "      <td>2.2</td>\n",
              "      <td>2.1</td>\n",
              "      <td>14500.0</td>\n",
              "      <td>2.1</td>\n",
              "    </tr>\n",
              "  </tbody>\n",
              "</table>\n",
              "</div>"
            ],
            "text/plain": [
              "            High  Low  Open  Close    Volume  Adj Close\n",
              "Date                                                   \n",
              "2016-05-02   2.2  1.8   1.8    2.0   53950.0        2.0\n",
              "2016-05-03   2.1  2.0   2.1    2.1   26080.0        2.1\n",
              "2016-05-04   2.7  2.0   2.2    2.7  186860.0        2.7\n",
              "2016-05-05   2.7  2.2   2.7    2.2   65730.0        2.2\n",
              "2016-05-06   2.2  2.1   2.2    2.1   14500.0        2.1"
            ]
          },
          "metadata": {
            "tags": []
          },
          "execution_count": 3
        }
      ]
    },
    {
      "cell_type": "code",
      "metadata": {
        "colab": {
          "base_uri": "https://localhost:8080/",
          "height": 235
        },
        "id": "cLHAilu-DKuj",
        "outputId": "d810b164-7545-413e-cc79-86d746812031"
      },
      "source": [
        "#Last 5 Days Stock Data\n",
        "stock_data.tail()"
      ],
      "execution_count": 4,
      "outputs": [
        {
          "output_type": "execute_result",
          "data": {
            "text/html": [
              "<div>\n",
              "<style scoped>\n",
              "    .dataframe tbody tr th:only-of-type {\n",
              "        vertical-align: middle;\n",
              "    }\n",
              "\n",
              "    .dataframe tbody tr th {\n",
              "        vertical-align: top;\n",
              "    }\n",
              "\n",
              "    .dataframe thead th {\n",
              "        text-align: right;\n",
              "    }\n",
              "</style>\n",
              "<table border=\"1\" class=\"dataframe\">\n",
              "  <thead>\n",
              "    <tr style=\"text-align: right;\">\n",
              "      <th></th>\n",
              "      <th>High</th>\n",
              "      <th>Low</th>\n",
              "      <th>Open</th>\n",
              "      <th>Close</th>\n",
              "      <th>Volume</th>\n",
              "      <th>Adj Close</th>\n",
              "    </tr>\n",
              "    <tr>\n",
              "      <th>Date</th>\n",
              "      <th></th>\n",
              "      <th></th>\n",
              "      <th></th>\n",
              "      <th></th>\n",
              "      <th></th>\n",
              "      <th></th>\n",
              "    </tr>\n",
              "  </thead>\n",
              "  <tbody>\n",
              "    <tr>\n",
              "      <th>2021-04-26</th>\n",
              "      <td>1.60</td>\n",
              "      <td>1.32</td>\n",
              "      <td>1.33</td>\n",
              "      <td>1.48</td>\n",
              "      <td>86135600.0</td>\n",
              "      <td>1.48</td>\n",
              "    </tr>\n",
              "    <tr>\n",
              "      <th>2021-04-27</th>\n",
              "      <td>1.58</td>\n",
              "      <td>1.41</td>\n",
              "      <td>1.48</td>\n",
              "      <td>1.52</td>\n",
              "      <td>72244800.0</td>\n",
              "      <td>1.52</td>\n",
              "    </tr>\n",
              "    <tr>\n",
              "      <th>2021-04-28</th>\n",
              "      <td>1.58</td>\n",
              "      <td>1.48</td>\n",
              "      <td>1.51</td>\n",
              "      <td>1.51</td>\n",
              "      <td>57315900.0</td>\n",
              "      <td>1.51</td>\n",
              "    </tr>\n",
              "    <tr>\n",
              "      <th>2021-04-29</th>\n",
              "      <td>1.55</td>\n",
              "      <td>1.44</td>\n",
              "      <td>1.52</td>\n",
              "      <td>1.48</td>\n",
              "      <td>54979100.0</td>\n",
              "      <td>1.48</td>\n",
              "    </tr>\n",
              "    <tr>\n",
              "      <th>2021-04-30</th>\n",
              "      <td>1.54</td>\n",
              "      <td>1.43</td>\n",
              "      <td>1.46</td>\n",
              "      <td>1.44</td>\n",
              "      <td>65764600.0</td>\n",
              "      <td>1.44</td>\n",
              "    </tr>\n",
              "  </tbody>\n",
              "</table>\n",
              "</div>"
            ],
            "text/plain": [
              "            High   Low  Open  Close      Volume  Adj Close\n",
              "Date                                                      \n",
              "2021-04-26  1.60  1.32  1.33   1.48  86135600.0       1.48\n",
              "2021-04-27  1.58  1.41  1.48   1.52  72244800.0       1.52\n",
              "2021-04-28  1.58  1.48  1.51   1.51  57315900.0       1.51\n",
              "2021-04-29  1.55  1.44  1.52   1.48  54979100.0       1.48\n",
              "2021-04-30  1.54  1.43  1.46   1.44  65764600.0       1.44"
            ]
          },
          "metadata": {
            "tags": []
          },
          "execution_count": 4
        }
      ]
    },
    {
      "cell_type": "code",
      "metadata": {
        "colab": {
          "base_uri": "https://localhost:8080/"
        },
        "id": "o-tvks4DZyO1",
        "outputId": "621ce41f-64b8-4b64-bc6c-932ec9e406d1"
      },
      "source": [
        "#Description of Stock Market Data\n",
        "stock_data.describe"
      ],
      "execution_count": 5,
      "outputs": [
        {
          "output_type": "execute_result",
          "data": {
            "text/plain": [
              "<bound method NDFrame.describe of             High   Low  Open  Close      Volume  Adj Close\n",
              "Date                                                      \n",
              "2016-05-02  2.20  1.80  1.80   2.00     53950.0       2.00\n",
              "2016-05-03  2.10  2.00  2.10   2.10     26080.0       2.10\n",
              "2016-05-04  2.70  2.00  2.20   2.70    186860.0       2.70\n",
              "2016-05-05  2.70  2.20  2.70   2.20     65730.0       2.20\n",
              "2016-05-06  2.20  2.10  2.20   2.10     14500.0       2.10\n",
              "...          ...   ...   ...    ...         ...        ...\n",
              "2021-04-26  1.60  1.32  1.33   1.48  86135600.0       1.48\n",
              "2021-04-27  1.58  1.41  1.48   1.52  72244800.0       1.52\n",
              "2021-04-28  1.58  1.48  1.51   1.51  57315900.0       1.51\n",
              "2021-04-29  1.55  1.44  1.52   1.48  54979100.0       1.48\n",
              "2021-04-30  1.54  1.43  1.46   1.44  65764600.0       1.44\n",
              "\n",
              "[1259 rows x 6 columns]>"
            ]
          },
          "metadata": {
            "tags": []
          },
          "execution_count": 5
        }
      ]
    },
    {
      "cell_type": "code",
      "metadata": {
        "colab": {
          "base_uri": "https://localhost:8080/",
          "height": 513
        },
        "id": "SEHic9hudG5L",
        "outputId": "bac149c7-256a-4401-ed83-bb6a133e42e0"
      },
      "source": [
        "#Plotting the Close Price of the CIDM till today\n",
        "plt.figure(figsize=(18,8))\n",
        "plt.title(\"Close Price History of CIDM\")\n",
        "plt.plot(stock_data['Close'])\n",
        "plt.xlabel(\"Days\")\n",
        "plt.ylabel(\"Close Price USD($)\")\n",
        "plt.show()"
      ],
      "execution_count": 6,
      "outputs": [
        {
          "output_type": "display_data",
          "data": {
            "image/png": "[encoded data removed]",
            "text/plain": [
              "<Figure size 1296x576 with 1 Axes>"
            ]
          },
          "metadata": {
            "tags": [],
            "needs_background": "light"
          }
        }
      ]
    },
    {
      "cell_type": "markdown",
      "metadata": {
        "id": "LD-FMbrIw1d3"
      },
      "source": [
        "# Data Preprocessing"
      ]
    },
    {
      "cell_type": "code",
      "metadata": {
        "colab": {
          "base_uri": "https://localhost:8080/",
          "height": 419
        },
        "id": "XfH0TkzaMbjB",
        "outputId": "08adfbf1-e65c-487b-a378-be010ba5c7e3"
      },
      "source": [
        "#Reset the Index\n",
        "stock_data=stock_data.reset_index(drop=False)\n",
        "stock_data"
      ],
      "execution_count": 7,
      "outputs": [
        {
          "output_type": "execute_result",
          "data": {
            "text/html": [
              "<div>\n",
              "<style scoped>\n",
              "    .dataframe tbody tr th:only-of-type {\n",
              "        vertical-align: middle;\n",
              "    }\n",
              "\n",
              "    .dataframe tbody tr th {\n",
              "        vertical-align: top;\n",
              "    }\n",
              "\n",
              "    .dataframe thead th {\n",
              "        text-align: right;\n",
              "    }\n",
              "</style>\n",
              "<table border=\"1\" class=\"dataframe\">\n",
              "  <thead>\n",
              "    <tr style=\"text-align: right;\">\n",
              "      <th></th>\n",
              "      <th>Date</th>\n",
              "      <th>High</th>\n",
              "      <th>Low</th>\n",
              "      <th>Open</th>\n",
              "      <th>Close</th>\n",
              "      <th>Volume</th>\n",
              "      <th>Adj Close</th>\n",
              "    </tr>\n",
              "  </thead>\n",
              "  <tbody>\n",
              "    <tr>\n",
              "      <th>0</th>\n",
              "      <td>2016-05-02</td>\n",
              "      <td>2.20</td>\n",
              "      <td>1.80</td>\n",
              "      <td>1.80</td>\n",
              "      <td>2.00</td>\n",
              "      <td>53950.0</td>\n",
              "      <td>2.00</td>\n",
              "    </tr>\n",
              "    <tr>\n",
              "      <th>1</th>\n",
              "      <td>2016-05-03</td>\n",
              "      <td>2.10</td>\n",
              "      <td>2.00</td>\n",
              "      <td>2.10</td>\n",
              "      <td>2.10</td>\n",
              "      <td>26080.0</td>\n",
              "      <td>2.10</td>\n",
              "    </tr>\n",
              "    <tr>\n",
              "      <th>2</th>\n",
              "      <td>2016-05-04</td>\n",
              "      <td>2.70</td>\n",
              "      <td>2.00</td>\n",
              "      <td>2.20</td>\n",
              "      <td>2.70</td>\n",
              "      <td>186860.0</td>\n",
              "      <td>2.70</td>\n",
              "    </tr>\n",
              "    <tr>\n",
              "      <th>3</th>\n",
              "      <td>2016-05-05</td>\n",
              "      <td>2.70</td>\n",
              "      <td>2.20</td>\n",
              "      <td>2.70</td>\n",
              "      <td>2.20</td>\n",
              "      <td>65730.0</td>\n",
              "      <td>2.20</td>\n",
              "    </tr>\n",
              "    <tr>\n",
              "      <th>4</th>\n",
              "      <td>2016-05-06</td>\n",
              "      <td>2.20</td>\n",
              "      <td>2.10</td>\n",
              "      <td>2.20</td>\n",
              "      <td>2.10</td>\n",
              "      <td>14500.0</td>\n",
              "      <td>2.10</td>\n",
              "    </tr>\n",
              "    <tr>\n",
              "      <th>...</th>\n",
              "      <td>...</td>\n",
              "      <td>...</td>\n",
              "      <td>...</td>\n",
              "      <td>...</td>\n",
              "      <td>...</td>\n",
              "      <td>...</td>\n",
              "      <td>...</td>\n",
              "    </tr>\n",
              "    <tr>\n",
              "      <th>1254</th>\n",
              "      <td>2021-04-26</td>\n",
              "      <td>1.60</td>\n",
              "      <td>1.32</td>\n",
              "      <td>1.33</td>\n",
              "      <td>1.48</td>\n",
              "      <td>86135600.0</td>\n",
              "      <td>1.48</td>\n",
              "    </tr>\n",
              "    <tr>\n",
              "      <th>1255</th>\n",
              "      <td>2021-04-27</td>\n",
              "      <td>1.58</td>\n",
              "      <td>1.41</td>\n",
              "      <td>1.48</td>\n",
              "      <td>1.52</td>\n",
              "      <td>72244800.0</td>\n",
              "      <td>1.52</td>\n",
              "    </tr>\n",
              "    <tr>\n",
              "      <th>1256</th>\n",
              "      <td>2021-04-28</td>\n",
              "      <td>1.58</td>\n",
              "      <td>1.48</td>\n",
              "      <td>1.51</td>\n",
              "      <td>1.51</td>\n",
              "      <td>57315900.0</td>\n",
              "      <td>1.51</td>\n",
              "    </tr>\n",
              "    <tr>\n",
              "      <th>1257</th>\n",
              "      <td>2021-04-29</td>\n",
              "      <td>1.55</td>\n",
              "      <td>1.44</td>\n",
              "      <td>1.52</td>\n",
              "      <td>1.48</td>\n",
              "      <td>54979100.0</td>\n",
              "      <td>1.48</td>\n",
              "    </tr>\n",
              "    <tr>\n",
              "      <th>1258</th>\n",
              "      <td>2021-04-30</td>\n",
              "      <td>1.54</td>\n",
              "      <td>1.43</td>\n",
              "      <td>1.46</td>\n",
              "      <td>1.44</td>\n",
              "      <td>65764600.0</td>\n",
              "      <td>1.44</td>\n",
              "    </tr>\n",
              "  </tbody>\n",
              "</table>\n",
              "<p>1259 rows × 7 columns</p>\n",
              "</div>"
            ],
            "text/plain": [
              "           Date  High   Low  Open  Close      Volume  Adj Close\n",
              "0    2016-05-02  2.20  1.80  1.80   2.00     53950.0       2.00\n",
              "1    2016-05-03  2.10  2.00  2.10   2.10     26080.0       2.10\n",
              "2    2016-05-04  2.70  2.00  2.20   2.70    186860.0       2.70\n",
              "3    2016-05-05  2.70  2.20  2.70   2.20     65730.0       2.20\n",
              "4    2016-05-06  2.20  2.10  2.20   2.10     14500.0       2.10\n",
              "...         ...   ...   ...   ...    ...         ...        ...\n",
              "1254 2021-04-26  1.60  1.32  1.33   1.48  86135600.0       1.48\n",
              "1255 2021-04-27  1.58  1.41  1.48   1.52  72244800.0       1.52\n",
              "1256 2021-04-28  1.58  1.48  1.51   1.51  57315900.0       1.51\n",
              "1257 2021-04-29  1.55  1.44  1.52   1.48  54979100.0       1.48\n",
              "1258 2021-04-30  1.54  1.43  1.46   1.44  65764600.0       1.44\n",
              "\n",
              "[1259 rows x 7 columns]"
            ]
          },
          "metadata": {
            "tags": []
          },
          "execution_count": 7
        }
      ]
    },
    {
      "cell_type": "code",
      "metadata": {
        "id": "8EHg13HDLW3O"
      },
      "source": [
        "# Extract dates for the visualization)\n",
        "stock_date = stock_data['Date']\n",
        "stock_date = stock_date.dt.strftime('%Y-%m-%d')\n",
        "stock_date = [dt.datetime.strptime(date, '%Y-%m-%d').date() for date in stock_date]\n"
      ],
      "execution_count": 8,
      "outputs": []
    },
    {
      "cell_type": "code",
      "metadata": {
        "colab": {
          "base_uri": "https://localhost:8080/",
          "height": 80
        },
        "id": "Y1SC38arSFQA",
        "outputId": "1161e2c6-512d-4b76-fee5-a926864caccd"
      },
      "source": [
        "#First, we change the order of the features and we put the depedent variable at the star\n",
        "features = ['Close', 'High',\n",
        "       'Low', 'Open','Adj Close', 'Volume']\n",
        "\n",
        "stock_data = stock_data.reindex(columns = features ) \n",
        "stock_data.head(1)"
      ],
      "execution_count": 9,
      "outputs": [
        {
          "output_type": "execute_result",
          "data": {
            "text/html": [
              "<div>\n",
              "<style scoped>\n",
              "    .dataframe tbody tr th:only-of-type {\n",
              "        vertical-align: middle;\n",
              "    }\n",
              "\n",
              "    .dataframe tbody tr th {\n",
              "        vertical-align: top;\n",
              "    }\n",
              "\n",
              "    .dataframe thead th {\n",
              "        text-align: right;\n",
              "    }\n",
              "</style>\n",
              "<table border=\"1\" class=\"dataframe\">\n",
              "  <thead>\n",
              "    <tr style=\"text-align: right;\">\n",
              "      <th></th>\n",
              "      <th>Close</th>\n",
              "      <th>High</th>\n",
              "      <th>Low</th>\n",
              "      <th>Open</th>\n",
              "      <th>Adj Close</th>\n",
              "      <th>Volume</th>\n",
              "    </tr>\n",
              "  </thead>\n",
              "  <tbody>\n",
              "    <tr>\n",
              "      <th>0</th>\n",
              "      <td>2.0</td>\n",
              "      <td>2.2</td>\n",
              "      <td>1.8</td>\n",
              "      <td>1.8</td>\n",
              "      <td>2.0</td>\n",
              "      <td>53950.0</td>\n",
              "    </tr>\n",
              "  </tbody>\n",
              "</table>\n",
              "</div>"
            ],
            "text/plain": [
              "   Close  High  Low  Open  Adj Close   Volume\n",
              "0    2.0   2.2  1.8   1.8        2.0  53950.0"
            ]
          },
          "metadata": {
            "tags": []
          },
          "execution_count": 9
        }
      ]
    },
    {
      "cell_type": "code",
      "metadata": {
        "id": "TrGBtLM_hbqu"
      },
      "source": [
        "#Splitting the data into dependent and independent features\n",
        "X=stock_data.iloc[:,1:]\n",
        "#Predicting the Close price of data\n",
        "y=stock_data.iloc[:,:1]"
      ],
      "execution_count": 10,
      "outputs": []
    },
    {
      "cell_type": "code",
      "metadata": {
        "id": "2V8BbTjfTOG-",
        "colab": {
          "base_uri": "https://localhost:8080/"
        },
        "outputId": "18b3b9c1-37e0-4833-87fa-ddad24400e80"
      },
      "source": [
        "#Removing all commas and convert data to matrix shape format.\n",
        "X = X.astype(str)\n",
        "for i in X:\n",
        "    for j in range(0, len(X)):\n",
        "        X[i][j] = X[i][j].replace(',', '')\n",
        "\n",
        "# Using multiple features (predictors)\n",
        "stock_train = X.to_numpy()\n",
        "\n",
        "print('Shape of Training set:{}.'.format(stock_train.shape))\n",
        "stock_train"
      ],
      "execution_count": 11,
      "outputs": [
        {
          "output_type": "stream",
          "text": [
            "Shape of Training set:(1259, 5).\n"
          ],
          "name": "stdout"
        },
        {
          "output_type": "execute_result",
          "data": {
            "text/plain": [
              "array([['2.200000047683716', '1.7999999523162842', '1.7999999523162842',\n",
              "        '2.0', '53950.0'],\n",
              "       ['2.0999999046325684', '2.0', '2.0999999046325684',\n",
              "        '2.0999999046325684', '26080.0'],\n",
              "       ['2.700000047683716', '2.0', '2.200000047683716',\n",
              "        '2.700000047683716', '186860.0'],\n",
              "       ...,\n",
              "       ['1.5800000429153442', '1.4800000190734863', '1.5099999904632568',\n",
              "        '1.5099999904632568', '57315900.0'],\n",
              "       ['1.5499999523162842', '1.440000057220459', '1.5199999809265137',\n",
              "        '1.4800000190734863', '54979100.0'],\n",
              "       ['1.5399999618530273', '1.4299999475479126', '1.4600000381469727',\n",
              "        '1.440000057220459', '65764600.0']], dtype=object)"
            ]
          },
          "metadata": {
            "tags": []
          },
          "execution_count": 11
        }
      ]
    },
    {
      "cell_type": "markdown",
      "metadata": {
        "id": "OZoIzoucpWka"
      },
      "source": [
        "**Feature** **Scaling**"
      ]
    },
    {
      "cell_type": "code",
      "metadata": {
        "colab": {
          "base_uri": "https://localhost:8080/"
        },
        "id": "uFY8Zxwm4tT9",
        "outputId": "297fa5ce-5345-4d2c-bf63-a8640ea374f7"
      },
      "source": [
        "#Feature Scaling\n",
        "from sklearn.preprocessing import StandardScaler\n",
        "scale=StandardScaler()\n",
        "stock_train=scale.fit_transform(stock_train)\n",
        "print(\"Scaled Features:\",stock_train)"
      ],
      "execution_count": 12,
      "outputs": [
        {
          "output_type": "stream",
          "text": [
            "Scaled Features: [[ 1.67942007  1.25885     1.06984108  1.53380177 -0.21469792]\n",
            " [ 1.47869738  1.71004572  1.71432567  1.75140745 -0.21672508]\n",
            " [ 2.6830321   1.71004572  1.92915421  3.05704309 -0.20503056]\n",
            " ...\n",
            " [ 0.43494115  0.53693716  0.44683929  0.46753289  3.9503174 ]\n",
            " [ 0.37472425  0.44669812  0.46832209  0.40225118  3.78034751]\n",
            " [ 0.35465202  0.4241381   0.33942528  0.31520891  4.56484354]]\n"
          ],
          "name": "stdout"
        }
      ]
    },
    {
      "cell_type": "code",
      "metadata": {
        "colab": {
          "base_uri": "https://localhost:8080/"
        },
        "id": "xQXgNQoaumu4",
        "outputId": "d14e213e-c792-4c49-94cd-1780ae36b8de"
      },
      "source": [
        "#Removing all commas and convert data to matrix shape format.\n",
        "y = y.astype(str)\n",
        "for i in y:\n",
        "    for j in range(0, len(y)):\n",
        "        y[i][j] = y[i][j].replace(',', '')\n",
        "\n",
        "# Using multiple features (predictors)\n",
        "stock_pred = y.to_numpy()\n",
        "\n",
        "print('Shape of Training set:{}.'.format(stock_pred.shape))\n",
        "stock_pred"
      ],
      "execution_count": 13,
      "outputs": [
        {
          "output_type": "stream",
          "text": [
            "Shape of Training set:(1259, 1).\n"
          ],
          "name": "stdout"
        },
        {
          "output_type": "execute_result",
          "data": {
            "text/plain": [
              "array([['2.0'],\n",
              "       ['2.0999999046325684'],\n",
              "       ['2.700000047683716'],\n",
              "       ...,\n",
              "       ['1.5099999904632568'],\n",
              "       ['1.4800000190734863'],\n",
              "       ['1.440000057220459']], dtype=object)"
            ]
          },
          "metadata": {
            "tags": []
          },
          "execution_count": 13
        }
      ]
    },
    {
      "cell_type": "code",
      "metadata": {
        "colab": {
          "base_uri": "https://localhost:8080/"
        },
        "id": "Wz-bvRclc9vv",
        "outputId": "7db9aeef-af74-4945-f308-07c71f0441d1"
      },
      "source": [
        "#Scaling the Prediction (Dependent Feature)\n",
        "scalepred=StandardScaler()\n",
        "stock_pred=scalepred.fit_transform(stock_pred)\n",
        "print(\"Scaled Close Price:\",stock_pred)"
      ],
      "execution_count": 14,
      "outputs": [
        {
          "output_type": "stream",
          "text": [
            "Scaled Close Price: [[1.53380177]\n",
            " [1.75140745]\n",
            " [3.05704309]\n",
            " ...\n",
            " [0.46753289]\n",
            " [0.40225118]\n",
            " [0.31520891]]\n"
          ],
          "name": "stdout"
        }
      ]
    },
    {
      "cell_type": "code",
      "metadata": {
        "colab": {
          "base_uri": "https://localhost:8080/"
        },
        "id": "6mnACN9HgwD4",
        "outputId": "50cd8bc7-c97d-43b3-e5b7-db61da4bba10"
      },
      "source": [
        "#Shape of the data\n",
        "stock_train.shape , stock_pred.shape"
      ],
      "execution_count": 15,
      "outputs": [
        {
          "output_type": "execute_result",
          "data": {
            "text/plain": [
              "((1259, 5), (1259, 1))"
            ]
          },
          "metadata": {
            "tags": []
          },
          "execution_count": 15
        }
      ]
    },
    {
      "cell_type": "code",
      "metadata": {
        "colab": {
          "base_uri": "https://localhost:8080/"
        },
        "id": "uf5PX2AYoRmF",
        "outputId": "e0db9e94-e97f-4216-fe32-3470a46dfd04"
      },
      "source": [
        "#Size of Training data\n",
        "training_size=int(len(stock_train)*0.80)\n",
        "#Size of Testing data\n",
        "test_size=len(stock_train)-training_size\n",
        "training_size,test_size"
      ],
      "execution_count": 16,
      "outputs": [
        {
          "output_type": "execute_result",
          "data": {
            "text/plain": [
              "(1007, 252)"
            ]
          },
          "metadata": {
            "tags": []
          },
          "execution_count": 16
        }
      ]
    },
    {
      "cell_type": "markdown",
      "metadata": {
        "id": "TXOd_-vApPCW"
      },
      "source": [
        "**Training** **Data**"
      ]
    },
    {
      "cell_type": "code",
      "metadata": {
        "colab": {
          "base_uri": "https://localhost:8080/"
        },
        "id": "KfgLyh2m2gIC",
        "outputId": "c13498e4-e6b9-4bd5-b3b5-fba6a69c7979"
      },
      "source": [
        "# Creating a data structure with 90 timestamps \n",
        "time_stamp = 90  #Number of Past days to make our model train \n",
        "pred_stamp = 30 #Number of Future days to predict\n",
        "\n",
        "X_train = []\n",
        "y_train = []\n",
        "\n",
        "for i in range(time_stamp, training_size - pred_stamp +1):\n",
        "    X_train.append(stock_train[i - time_stamp:i, 0:stock_data.shape[1] - 1])\n",
        "    y_train.append(stock_pred[i:i + pred_stamp, 0])\n",
        "    \n",
        "X_train, y_train = np.array(X_train), np.array(y_train)\n",
        "\n",
        "print('X_train shape == {}.'.format(X_train.shape))\n",
        "print('y_train shape == {}.'.format(y_train.shape))"
      ],
      "execution_count": 17,
      "outputs": [
        {
          "output_type": "stream",
          "text": [
            "X_train shape == (888, 90, 5).\n",
            "y_train shape == (888, 30).\n"
          ],
          "name": "stdout"
        }
      ]
    },
    {
      "cell_type": "markdown",
      "metadata": {
        "id": "4kpXkjY0pLQT"
      },
      "source": [
        "**Testing** **Data**"
      ]
    },
    {
      "cell_type": "code",
      "metadata": {
        "colab": {
          "base_uri": "https://localhost:8080/"
        },
        "id": "rL_6Ea_udfkx",
        "outputId": "98915e10-f9a1-4fb1-95ff-b6e9880e7aff"
      },
      "source": [
        "X_test = []\n",
        "y_test = []\n",
        "\n",
        "for i in range(time_stamp, test_size - pred_stamp +1):\n",
        "    X_test.append(stock_train[i - time_stamp:i, 0:stock_data.shape[1] - 1])\n",
        "    y_test.append(stock_pred[i:i + pred_stamp, 0])\n",
        "\n",
        "X_test, y_test = np.array(X_test), np.array(y_test)\n",
        "\n",
        "print('X_test shape == {}.'.format(X_test.shape))\n",
        "print('y_test shape == {}.'.format(y_test.shape))"
      ],
      "execution_count": 18,
      "outputs": [
        {
          "output_type": "stream",
          "text": [
            "X_test shape == (133, 90, 5).\n",
            "y_test shape == (133, 30).\n"
          ],
          "name": "stdout"
        }
      ]
    },
    {
      "cell_type": "markdown",
      "metadata": {
        "id": "i7rBcTr1p9Nf"
      },
      "source": [
        "# Model Selection"
      ]
    },
    {
      "cell_type": "code",
      "metadata": {
        "colab": {
          "base_uri": "https://localhost:8080/"
        },
        "id": "hWn8v2wr06Cb",
        "outputId": "90fbf836-805f-4e95-9a40-5acc89f761f8"
      },
      "source": [
        "pip install tensorflow-addons"
      ],
      "execution_count": 19,
      "outputs": [
        {
          "output_type": "stream",
          "text": [
            "Collecting tensorflow-addons\n",
            "\u001b[?25l  Downloading https://files.pythonhosted.org/packages/74/e3/56d2fe76f0bb7c88ed9b2a6a557e25e83e252aec08f13de34369cd850a0b/tensorflow_addons-0.12.1-cp37-cp37m-manylinux2010_x86_64.whl (703kB)\n",
            "\r\u001b[K     |▌                               | 10kB 14.9MB/s eta 0:00:01\r\u001b[K     |█                               | 20kB 13.2MB/s eta 0:00:01\r\u001b[K     |█▍                              | 30kB 9.8MB/s eta 0:00:01\r\u001b[K     |█▉                              | 40kB 9.1MB/s eta 0:00:01\r\u001b[K     |██▎                             | 51kB 5.0MB/s eta 0:00:01\r\u001b[K     |██▉                             | 61kB 5.8MB/s eta 0:00:01\r\u001b[K     |███▎                            | 71kB 5.9MB/s eta 0:00:01\r\u001b[K     |███▊                            | 81kB 6.4MB/s eta 0:00:01\r\u001b[K     |████▏                           | 92kB 6.0MB/s eta 0:00:01\r\u001b[K     |████▋                           | 102kB 6.5MB/s eta 0:00:01\r\u001b[K     |█████▏                          | 112kB 6.5MB/s eta 0:00:01\r\u001b[K     |█████▋                          | 122kB 6.5MB/s eta 0:00:01\r\u001b[K     |██████                          | 133kB 6.5MB/s eta 0:00:01\r\u001b[K     |██████▌                         | 143kB 6.5MB/s eta 0:00:01\r\u001b[K     |███████                         | 153kB 6.5MB/s eta 0:00:01\r\u001b[K     |███████▌                        | 163kB 6.5MB/s eta 0:00:01\r\u001b[K     |████████                        | 174kB 6.5MB/s eta 0:00:01\r\u001b[K     |████████▍                       | 184kB 6.5MB/s eta 0:00:01\r\u001b[K     |████████▉                       | 194kB 6.5MB/s eta 0:00:01\r\u001b[K     |█████████▎                      | 204kB 6.5MB/s eta 0:00:01\r\u001b[K     |█████████▉                      | 215kB 6.5MB/s eta 0:00:01\r\u001b[K     |██████████▎                     | 225kB 6.5MB/s eta 0:00:01\r\u001b[K     |██████████▊                     | 235kB 6.5MB/s eta 0:00:01\r\u001b[K     |███████████▏                    | 245kB 6.5MB/s eta 0:00:01\r\u001b[K     |███████████▋                    | 256kB 6.5MB/s eta 0:00:01\r\u001b[K     |████████████▏                   | 266kB 6.5MB/s eta 0:00:01\r\u001b[K     |████████████▋                   | 276kB 6.5MB/s eta 0:00:01\r\u001b[K     |█████████████                   | 286kB 6.5MB/s eta 0:00:01\r\u001b[K     |█████████████▌                  | 296kB 6.5MB/s eta 0:00:01\r\u001b[K     |██████████████                  | 307kB 6.5MB/s eta 0:00:01\r\u001b[K     |██████████████▍                 | 317kB 6.5MB/s eta 0:00:01\r\u001b[K     |███████████████                 | 327kB 6.5MB/s eta 0:00:01\r\u001b[K     |███████████████▍                | 337kB 6.5MB/s eta 0:00:01\r\u001b[K     |███████████████▉                | 348kB 6.5MB/s eta 0:00:01\r\u001b[K     |████████████████▎               | 358kB 6.5MB/s eta 0:00:01\r\u001b[K     |████████████████▊               | 368kB 6.5MB/s eta 0:00:01\r\u001b[K     |█████████████████▎              | 378kB 6.5MB/s eta 0:00:01\r\u001b[K     |█████████████████▊              | 389kB 6.5MB/s eta 0:00:01\r\u001b[K     |██████████████████▏             | 399kB 6.5MB/s eta 0:00:01\r\u001b[K     |██████████████████▋             | 409kB 6.5MB/s eta 0:00:01\r\u001b[K     |███████████████████             | 419kB 6.5MB/s eta 0:00:01\r\u001b[K     |███████████████████▋            | 430kB 6.5MB/s eta 0:00:01\r\u001b[K     |████████████████████            | 440kB 6.5MB/s eta 0:00:01\r\u001b[K     |████████████████████▌           | 450kB 6.5MB/s eta 0:00:01\r\u001b[K     |█████████████████████           | 460kB 6.5MB/s eta 0:00:01\r\u001b[K     |█████████████████████▍          | 471kB 6.5MB/s eta 0:00:01\r\u001b[K     |██████████████████████          | 481kB 6.5MB/s eta 0:00:01\r\u001b[K     |██████████████████████▍         | 491kB 6.5MB/s eta 0:00:01\r\u001b[K     |██████████████████████▉         | 501kB 6.5MB/s eta 0:00:01\r\u001b[K     |███████████████████████▎        | 512kB 6.5MB/s eta 0:00:01\r\u001b[K     |███████████████████████▊        | 522kB 6.5MB/s eta 0:00:01\r\u001b[K     |████████████████████████▎       | 532kB 6.5MB/s eta 0:00:01\r\u001b[K     |████████████████████████▊       | 542kB 6.5MB/s eta 0:00:01\r\u001b[K     |█████████████████████████▏      | 552kB 6.5MB/s eta 0:00:01\r\u001b[K     |█████████████████████████▋      | 563kB 6.5MB/s eta 0:00:01\r\u001b[K     |██████████████████████████      | 573kB 6.5MB/s eta 0:00:01\r\u001b[K     |██████████████████████████▋     | 583kB 6.5MB/s eta 0:00:01\r\u001b[K     |███████████████████████████     | 593kB 6.5MB/s eta 0:00:01\r\u001b[K     |███████████████████████████▌    | 604kB 6.5MB/s eta 0:00:01\r\u001b[K     |████████████████████████████    | 614kB 6.5MB/s eta 0:00:01\r\u001b[K     |████████████████████████████▍   | 624kB 6.5MB/s eta 0:00:01\r\u001b[K     |████████████████████████████▉   | 634kB 6.5MB/s eta 0:00:01\r\u001b[K     |█████████████████████████████▍  | 645kB 6.5MB/s eta 0:00:01\r\u001b[K     |█████████████████████████████▉  | 655kB 6.5MB/s eta 0:00:01\r\u001b[K     |██████████████████████████████▎ | 665kB 6.5MB/s eta 0:00:01\r\u001b[K     |██████████████████████████████▊ | 675kB 6.5MB/s eta 0:00:01\r\u001b[K     |███████████████████████████████▏| 686kB 6.5MB/s eta 0:00:01\r\u001b[K     |███████████████████████████████▊| 696kB 6.5MB/s eta 0:00:01\r\u001b[K     |████████████████████████████████| 706kB 6.5MB/s \n",
            "\u001b[?25hRequirement already satisfied: typeguard>=2.7 in /usr/local/lib/python3.7/dist-packages (from tensorflow-addons) (2.7.1)\n",
            "Installing collected packages: tensorflow-addons\n",
            "Successfully installed tensorflow-addons-0.12.1\n"
          ],
          "name": "stdout"
        }
      ]
    },
    {
      "cell_type": "code",
      "metadata": {
        "id": "GVkrABXmqszg"
      },
      "source": [
        "#Importing Necessary Libraries of Tensorflow for training LSTM Model\n",
        "from tensorflow.keras.models import Sequential\n",
        "from tensorflow.keras.layers import Dense\n",
        "from tensorflow.keras.layers import LSTM\n",
        "from keras.layers.core import Dense, Activation, Dropout,Flatten\n",
        "from keras.preprocessing import sequence\n",
        "from tensorflow.keras.callbacks import EarlyStopping, ReduceLROnPlateau,TensorBoard\n",
        "from tensorflow.keras.optimizers import Adam\n",
        "import tensorflow_addons as tfa\n",
        "import tensorflow as tf"
      ],
      "execution_count": 20,
      "outputs": []
    },
    {
      "cell_type": "code",
      "metadata": {
        "id": "EOX_plLvq0ME",
        "colab": {
          "base_uri": "https://localhost:8080/"
        },
        "outputId": "b166039c-6d20-43e2-ff1d-43b66b447254"
      },
      "source": [
        "#Training Sequential Model using 3 Hidden layers\n",
        "model=Sequential()\n",
        "model.add(LSTM(128,input_shape=(time_stamp,stock_train.shape[1]),return_sequences=True)) #66\n",
        "model.add(LSTM(64,return_sequences=True)) #66\n",
        "model.add(LSTM(32,return_sequences=False))\n",
        "\n",
        "model.add(Dropout(0.25))\n",
        "model.add(Dense(32))\n",
        "model.add(Dense(pred_stamp,activation='linear'))\n",
        "\n",
        "#Summary of Model\n",
        "model.summary()"
      ],
      "execution_count": 21,
      "outputs": [
        {
          "output_type": "stream",
          "text": [
            "Model: \"sequential\"\n",
            "_________________________________________________________________\n",
            "Layer (type)                 Output Shape              Param #   \n",
            "=================================================================\n",
            "lstm (LSTM)                  (None, 90, 128)           68608     \n",
            "_________________________________________________________________\n",
            "lstm_1 (LSTM)                (None, 90, 64)            49408     \n",
            "_________________________________________________________________\n",
            "lstm_2 (LSTM)                (None, 32)                12416     \n",
            "_________________________________________________________________\n",
            "dropout (Dropout)            (None, 32)                0         \n",
            "_________________________________________________________________\n",
            "dense (Dense)                (None, 32)                1056      \n",
            "_________________________________________________________________\n",
            "dense_1 (Dense)              (None, 30)                990       \n",
            "=================================================================\n",
            "Total params: 132,478\n",
            "Trainable params: 132,478\n",
            "Non-trainable params: 0\n",
            "_________________________________________________________________\n"
          ],
          "name": "stdout"
        }
      ]
    },
    {
      "cell_type": "code",
      "metadata": {
        "colab": {
          "base_uri": "https://localhost:8080/",
          "height": 661
        },
        "id": "bc5z593tFctx",
        "outputId": "0eaeccbf-0999-4fc7-c2df-35a4b7cd3e2f"
      },
      "source": [
        "#Architecture of LSTM Model\n",
        "tf.keras.utils.plot_model(model)"
      ],
      "execution_count": 22,
      "outputs": [
        {
          "output_type": "execute_result",
          "data": {
            "image/png": "[encoded data removed]",
            "text/plain": [
              "<IPython.core.display.Image object>"
            ]
          },
          "metadata": {
            "tags": []
          },
          "execution_count": 22
        }
      ]
    },
    {
      "cell_type": "code",
      "metadata": {
        "id": "MmIeKsXItCjQ"
      },
      "source": [
        "\n",
        "#Model Compilation (With Matrics including Macro and Micro F1 Score and AUC Score)\n",
        "opt = Adam(lr=0.001)\n",
        "model.compile(optimizer=opt,\n",
        "              loss=\"mean_squared_error\",\n",
        "              metrics=[\n",
        "                       tf.keras.metrics.MeanAbsoluteError(),\n",
        "                      ])"
      ],
      "execution_count": 23,
      "outputs": []
    },
    {
      "cell_type": "code",
      "metadata": {
        "colab": {
          "base_uri": "https://localhost:8080/"
        },
        "id": "Rymc9jfAtJLx",
        "outputId": "a431bb50-f561-426f-95af-3fa03eaf470e"
      },
      "source": [
        "%%time\n",
        "#Callbacks\n",
        "#rlr = ReduceLROnPlateau(monitor='val_loss', factor=0.5, patience=10, verbose=1)\n",
        "es= EarlyStopping(monitor='val_loss', min_delta=1e-10, patience=10, verbose=1) #pat=10\n",
        "#Model Fitting\n",
        "lstm = model.fit(X_train, y_train,  \n",
        "                    epochs=100, \n",
        "                    callbacks=[es],\n",
        "                    validation_data=(X_test,y_test), \n",
        "                    verbose=2,\n",
        "                    batch_size=128) #64"
      ],
      "execution_count": 24,
      "outputs": [
        {
          "output_type": "stream",
          "text": [
            "Epoch 1/100\n",
            "7/7 - 10s - loss: 0.6679 - mean_absolute_error: 0.6395 - val_loss: 0.4527 - val_mean_absolute_error: 0.4712\n",
            "Epoch 2/100\n",
            "7/7 - 3s - loss: 0.5196 - mean_absolute_error: 0.5474 - val_loss: 0.3755 - val_mean_absolute_error: 0.4298\n",
            "Epoch 3/100\n",
            "7/7 - 3s - loss: 0.4066 - mean_absolute_error: 0.4815 - val_loss: 0.3074 - val_mean_absolute_error: 0.3947\n",
            "Epoch 4/100\n",
            "7/7 - 3s - loss: 0.3249 - mean_absolute_error: 0.4322 - val_loss: 0.2583 - val_mean_absolute_error: 0.3785\n",
            "Epoch 5/100\n",
            "7/7 - 3s - loss: 0.2603 - mean_absolute_error: 0.3916 - val_loss: 0.2496 - val_mean_absolute_error: 0.3599\n",
            "Epoch 6/100\n",
            "7/7 - 3s - loss: 0.2198 - mean_absolute_error: 0.3623 - val_loss: 0.2364 - val_mean_absolute_error: 0.3474\n",
            "Epoch 7/100\n",
            "7/7 - 3s - loss: 0.2000 - mean_absolute_error: 0.3429 - val_loss: 0.2068 - val_mean_absolute_error: 0.3537\n",
            "Epoch 8/100\n",
            "7/7 - 3s - loss: 0.1866 - mean_absolute_error: 0.3319 - val_loss: 0.2141 - val_mean_absolute_error: 0.3277\n",
            "Epoch 9/100\n",
            "7/7 - 3s - loss: 0.1764 - mean_absolute_error: 0.3212 - val_loss: 0.1418 - val_mean_absolute_error: 0.2806\n",
            "Epoch 10/100\n",
            "7/7 - 3s - loss: 0.1541 - mean_absolute_error: 0.3016 - val_loss: 0.1896 - val_mean_absolute_error: 0.3197\n",
            "Epoch 11/100\n",
            "7/7 - 3s - loss: 0.1457 - mean_absolute_error: 0.2914 - val_loss: 0.1721 - val_mean_absolute_error: 0.3015\n",
            "Epoch 12/100\n",
            "7/7 - 3s - loss: 0.1330 - mean_absolute_error: 0.2824 - val_loss: 0.1103 - val_mean_absolute_error: 0.2522\n",
            "Epoch 13/100\n",
            "7/7 - 3s - loss: 0.1296 - mean_absolute_error: 0.2797 - val_loss: 0.0969 - val_mean_absolute_error: 0.2384\n",
            "Epoch 14/100\n",
            "7/7 - 3s - loss: 0.1178 - mean_absolute_error: 0.2653 - val_loss: 0.0870 - val_mean_absolute_error: 0.2276\n",
            "Epoch 15/100\n",
            "7/7 - 3s - loss: 0.1163 - mean_absolute_error: 0.2660 - val_loss: 0.0870 - val_mean_absolute_error: 0.2273\n",
            "Epoch 16/100\n",
            "7/7 - 3s - loss: 0.1135 - mean_absolute_error: 0.2637 - val_loss: 0.0812 - val_mean_absolute_error: 0.2187\n",
            "Epoch 17/100\n",
            "7/7 - 3s - loss: 0.1143 - mean_absolute_error: 0.2636 - val_loss: 0.0753 - val_mean_absolute_error: 0.2129\n",
            "Epoch 18/100\n",
            "7/7 - 3s - loss: 0.1018 - mean_absolute_error: 0.2504 - val_loss: 0.0756 - val_mean_absolute_error: 0.2144\n",
            "Epoch 19/100\n",
            "7/7 - 3s - loss: 0.1031 - mean_absolute_error: 0.2523 - val_loss: 0.0713 - val_mean_absolute_error: 0.2045\n",
            "Epoch 20/100\n",
            "7/7 - 3s - loss: 0.1000 - mean_absolute_error: 0.2472 - val_loss: 0.1292 - val_mean_absolute_error: 0.2796\n",
            "Epoch 21/100\n",
            "7/7 - 3s - loss: 0.1049 - mean_absolute_error: 0.2533 - val_loss: 0.0681 - val_mean_absolute_error: 0.2004\n",
            "Epoch 22/100\n",
            "7/7 - 3s - loss: 0.0941 - mean_absolute_error: 0.2410 - val_loss: 0.0697 - val_mean_absolute_error: 0.2032\n",
            "Epoch 23/100\n",
            "7/7 - 3s - loss: 0.0907 - mean_absolute_error: 0.2369 - val_loss: 0.0639 - val_mean_absolute_error: 0.1956\n",
            "Epoch 24/100\n",
            "7/7 - 3s - loss: 0.0913 - mean_absolute_error: 0.2362 - val_loss: 0.0744 - val_mean_absolute_error: 0.2147\n",
            "Epoch 25/100\n",
            "7/7 - 3s - loss: 0.0919 - mean_absolute_error: 0.2381 - val_loss: 0.0603 - val_mean_absolute_error: 0.1923\n",
            "Epoch 26/100\n",
            "7/7 - 3s - loss: 0.0845 - mean_absolute_error: 0.2281 - val_loss: 0.0579 - val_mean_absolute_error: 0.1899\n",
            "Epoch 27/100\n",
            "7/7 - 3s - loss: 0.0829 - mean_absolute_error: 0.2258 - val_loss: 0.0583 - val_mean_absolute_error: 0.1930\n",
            "Epoch 28/100\n",
            "7/7 - 3s - loss: 0.0791 - mean_absolute_error: 0.2214 - val_loss: 0.0599 - val_mean_absolute_error: 0.1946\n",
            "Epoch 29/100\n",
            "7/7 - 3s - loss: 0.0813 - mean_absolute_error: 0.2230 - val_loss: 0.0746 - val_mean_absolute_error: 0.2198\n",
            "Epoch 30/100\n",
            "7/7 - 3s - loss: 0.0822 - mean_absolute_error: 0.2252 - val_loss: 0.0579 - val_mean_absolute_error: 0.1878\n",
            "Epoch 31/100\n",
            "7/7 - 3s - loss: 0.0767 - mean_absolute_error: 0.2177 - val_loss: 0.0558 - val_mean_absolute_error: 0.1916\n",
            "Epoch 32/100\n",
            "7/7 - 3s - loss: 0.0718 - mean_absolute_error: 0.2105 - val_loss: 0.0544 - val_mean_absolute_error: 0.1889\n",
            "Epoch 33/100\n",
            "7/7 - 3s - loss: 0.0731 - mean_absolute_error: 0.2107 - val_loss: 0.0520 - val_mean_absolute_error: 0.1825\n",
            "Epoch 34/100\n",
            "7/7 - 3s - loss: 0.0700 - mean_absolute_error: 0.2072 - val_loss: 0.0640 - val_mean_absolute_error: 0.2062\n",
            "Epoch 35/100\n",
            "7/7 - 3s - loss: 0.0703 - mean_absolute_error: 0.2073 - val_loss: 0.0505 - val_mean_absolute_error: 0.1800\n",
            "Epoch 36/100\n",
            "7/7 - 3s - loss: 0.0702 - mean_absolute_error: 0.2061 - val_loss: 0.0485 - val_mean_absolute_error: 0.1730\n",
            "Epoch 37/100\n",
            "7/7 - 3s - loss: 0.0684 - mean_absolute_error: 0.2020 - val_loss: 0.0513 - val_mean_absolute_error: 0.1814\n",
            "Epoch 38/100\n",
            "7/7 - 3s - loss: 0.0652 - mean_absolute_error: 0.1980 - val_loss: 0.0496 - val_mean_absolute_error: 0.1788\n",
            "Epoch 39/100\n",
            "7/7 - 3s - loss: 0.0643 - mean_absolute_error: 0.1969 - val_loss: 0.0558 - val_mean_absolute_error: 0.1938\n",
            "Epoch 40/100\n",
            "7/7 - 3s - loss: 0.0643 - mean_absolute_error: 0.1951 - val_loss: 0.0513 - val_mean_absolute_error: 0.1811\n",
            "Epoch 41/100\n",
            "7/7 - 3s - loss: 0.0623 - mean_absolute_error: 0.1915 - val_loss: 0.0451 - val_mean_absolute_error: 0.1637\n",
            "Epoch 42/100\n",
            "7/7 - 3s - loss: 0.0606 - mean_absolute_error: 0.1898 - val_loss: 0.0482 - val_mean_absolute_error: 0.1664\n",
            "Epoch 43/100\n",
            "7/7 - 3s - loss: 0.0625 - mean_absolute_error: 0.1934 - val_loss: 0.0455 - val_mean_absolute_error: 0.1632\n",
            "Epoch 44/100\n",
            "7/7 - 3s - loss: 0.0622 - mean_absolute_error: 0.1920 - val_loss: 0.0502 - val_mean_absolute_error: 0.1766\n",
            "Epoch 45/100\n",
            "7/7 - 3s - loss: 0.0604 - mean_absolute_error: 0.1901 - val_loss: 0.0551 - val_mean_absolute_error: 0.1924\n",
            "Epoch 46/100\n",
            "7/7 - 3s - loss: 0.0602 - mean_absolute_error: 0.1882 - val_loss: 0.0491 - val_mean_absolute_error: 0.1687\n",
            "Epoch 47/100\n",
            "7/7 - 3s - loss: 0.0560 - mean_absolute_error: 0.1811 - val_loss: 0.0615 - val_mean_absolute_error: 0.1984\n",
            "Epoch 48/100\n",
            "7/7 - 3s - loss: 0.0560 - mean_absolute_error: 0.1829 - val_loss: 0.0513 - val_mean_absolute_error: 0.1734\n",
            "Epoch 49/100\n",
            "7/7 - 3s - loss: 0.0574 - mean_absolute_error: 0.1843 - val_loss: 0.0459 - val_mean_absolute_error: 0.1631\n",
            "Epoch 50/100\n",
            "7/7 - 3s - loss: 0.0662 - mean_absolute_error: 0.1976 - val_loss: 0.0542 - val_mean_absolute_error: 0.1832\n",
            "Epoch 51/100\n",
            "7/7 - 3s - loss: 0.0609 - mean_absolute_error: 0.1909 - val_loss: 0.0563 - val_mean_absolute_error: 0.1907\n",
            "Epoch 00051: early stopping\n",
            "CPU times: user 4min 47s, sys: 19 s, total: 5min 6s\n",
            "Wall time: 2min 55s\n"
          ],
          "name": "stdout"
        }
      ]
    },
    {
      "cell_type": "markdown",
      "metadata": {
        "id": "2n6DtxzCTbt5"
      },
      "source": [
        "# Model Evaluation"
      ]
    },
    {
      "cell_type": "markdown",
      "metadata": {
        "id": "HKDbRjlRTra0"
      },
      "source": [
        "**Traning and Validation Loss Graph**"
      ]
    },
    {
      "cell_type": "code",
      "metadata": {
        "colab": {
          "base_uri": "https://localhost:8080/",
          "height": 282
        },
        "id": "ZsroH9Wleosz",
        "outputId": "dc94bd2c-701a-4555-e7e3-90ea25992c8d"
      },
      "source": [
        "#Plotting Traning and Validation Loss of LSTM Architecture\n",
        "plt.plot(lstm.history['loss'], label='Training loss')\n",
        "plt.plot(lstm.history['val_loss'], label='Validation loss')\n",
        "plt.legend()"
      ],
      "execution_count": 25,
      "outputs": [
        {
          "output_type": "execute_result",
          "data": {
            "text/plain": [
              "<matplotlib.legend.Legend at 0x7fae9ef0a490>"
            ]
          },
          "metadata": {
            "tags": []
          },
          "execution_count": 25
        },
        {
          "output_type": "display_data",
          "data": {
            "image/png": "[encoded data removed]",
            "text/plain": [
              "<Figure size 432x288 with 1 Axes>"
            ]
          },
          "metadata": {
            "tags": [],
            "needs_background": "light"
          }
        }
      ]
    },
    {
      "cell_type": "code",
      "metadata": {
        "id": "VBzuXCT1uRfp"
      },
      "source": [
        "#Predicted Values\n",
        "train_predict = model.predict(X_train)\n",
        "test_predict =  model.predict(X_test)"
      ],
      "execution_count": 26,
      "outputs": []
    },
    {
      "cell_type": "code",
      "metadata": {
        "colab": {
          "base_uri": "https://localhost:8080/"
        },
        "id": "IOFfWPNmudqH",
        "outputId": "cade2cae-cc5f-4022-c205-b793b42dc13b"
      },
      "source": [
        "#Shape of the Data\n",
        "train_predict.shape, test_predict.shape"
      ],
      "execution_count": 27,
      "outputs": [
        {
          "output_type": "execute_result",
          "data": {
            "text/plain": [
              "((888, 30), (133, 30))"
            ]
          },
          "metadata": {
            "tags": []
          },
          "execution_count": 27
        }
      ]
    },
    {
      "cell_type": "code",
      "metadata": {
        "id": "eM_8tXWMcXe5"
      },
      "source": [
        "#Perfoming Inverse Transformation to get original data\n",
        "train_predict=scalepred.inverse_transform(train_predict)\n",
        "test_predict=scalepred.inverse_transform(test_predict)"
      ],
      "execution_count": 28,
      "outputs": []
    },
    {
      "cell_type": "code",
      "metadata": {
        "id": "81YEdkDAccWo"
      },
      "source": [
        "#Perfoming Inverse Transformation to get original Close Price data\n",
        "y_test=scalepred.inverse_transform(y_test)\n",
        "y_train=scalepred.inverse_transform(y_train)"
      ],
      "execution_count": 29,
      "outputs": []
    },
    {
      "cell_type": "code",
      "metadata": {
        "colab": {
          "base_uri": "https://localhost:8080/"
        },
        "id": "a6qihlobvCqt",
        "outputId": "beb2a1f4-1125-490e-fa8c-3df039a02b45"
      },
      "source": [
        "#Calculating Mean Absolute Error on Test Data\n",
        "from sklearn.metrics import mean_absolute_error\n",
        "MAE = mean_absolute_error(test_predict, y_test)\n",
        "print(\"Mean Absolute Error of Test Data\",MAE)\n",
        "\n",
        "MAE = mean_absolute_error(train_predict, y_train)\n",
        "print(\"Mean Absolute Error of Train Data:\",MAE)"
      ],
      "execution_count": 30,
      "outputs": [
        {
          "output_type": "stream",
          "text": [
            "Mean Absolute Error of Test Data 0.08763136941388737\n",
            "Mean Absolute Error of Train Data: 0.07941551869315605\n"
          ],
          "name": "stdout"
        }
      ]
    },
    {
      "cell_type": "code",
      "metadata": {
        "colab": {
          "base_uri": "https://localhost:8080/"
        },
        "id": "xqGqiJv-OIDe",
        "outputId": "65990048-37f8-498e-de46-952825eba534"
      },
      "source": [
        "#Predicting Batch of Next 30 Days Close Price\n",
        "test_predict[0]"
      ],
      "execution_count": 33,
      "outputs": [
        {
          "output_type": "execute_result",
          "data": {
            "text/plain": [
              "array([1.9502741, 1.9986169, 2.003212 , 1.981899 , 2.038131 , 2.0323424,\n",
              "       2.0457926, 2.0621257, 2.075021 , 2.0677764, 2.0571125, 2.0520294,\n",
              "       2.1126559, 2.1070673, 2.0826004, 2.0411468, 2.0519686, 2.0877259,\n",
              "       2.0490122, 2.080253 , 2.0640376, 2.0703807, 2.040109 , 2.0128558,\n",
              "       1.9961867, 2.0665674, 1.9431163, 1.9658477, 1.9406414, 1.890782 ],\n",
              "      dtype=float32)"
            ]
          },
          "metadata": {
            "tags": []
          },
          "execution_count": 33
        }
      ]
    },
    {
      "cell_type": "code",
      "metadata": {
        "colab": {
          "base_uri": "https://localhost:8080/"
        },
        "id": "GaqxWJY5KCqE",
        "outputId": "8fbfdc03-1d87-4aa3-ea62-819a7462112c"
      },
      "source": [
        "#Next 30 Days Forecast of Close Price\n",
        "output=test_predict[-1]\n",
        "output"
      ],
      "execution_count": 31,
      "outputs": [
        {
          "output_type": "execute_result",
          "data": {
            "text/plain": [
              "array([1.4465605, 1.4344887, 1.4504371, 1.4426419, 1.453146 , 1.4541765,\n",
              "       1.4741145, 1.4514403, 1.4673239, 1.4479493, 1.4846351, 1.4712837,\n",
              "       1.4651374, 1.4679037, 1.4691021, 1.4996574, 1.4769461, 1.4866785,\n",
              "       1.4775292, 1.485542 , 1.4703469, 1.481568 , 1.4952407, 1.4927036,\n",
              "       1.4901671, 1.4845208, 1.5073444, 1.5018324, 1.5131671, 1.5060549],\n",
              "      dtype=float32)"
            ]
          },
          "metadata": {
            "tags": []
          },
          "execution_count": 31
        }
      ]
    },
    {
      "cell_type": "code",
      "metadata": {
        "id": "_Gf5kroCMapm"
      },
      "source": [
        "#Converting Output to Dataframe to Display it opposite to date wise\n",
        "output=pd.DataFrame(output,columns=['Predicted'])"
      ],
      "execution_count": 35,
      "outputs": []
    },
    {
      "cell_type": "code",
      "metadata": {
        "id": "v6f512l_Oa9d"
      },
      "source": [
        "#Creating the List of Next 15 days Dates\n",
        "import datetime \n",
        "i=0\n",
        "weekdays=[]\n",
        "for i in range(50):\n",
        "  if len(weekdays)<30:\n",
        "    NextDay_Date = datetime.datetime.today() + datetime.timedelta(days=i+1)\n",
        "    if NextDay_Date.isoweekday()!=6 and NextDay_Date.isoweekday()!=7:\n",
        "      weekdays.append(NextDay_Date)"
      ],
      "execution_count": 37,
      "outputs": []
    },
    {
      "cell_type": "code",
      "metadata": {
        "id": "CnyOBBQHOfXz"
      },
      "source": [
        "#Strip the date in Y-M-D Format\n",
        "dates=[]\n",
        "for i in weekdays:\n",
        "  a= i.strftime(\"%Y-%m-%d\")\n",
        "  dates.append(a)"
      ],
      "execution_count": 38,
      "outputs": []
    },
    {
      "cell_type": "code",
      "metadata": {
        "id": "dhQDRK6POhWs"
      },
      "source": [
        "#Converting to Dataframe\n",
        "dates=pd.DataFrame(dates)"
      ],
      "execution_count": 39,
      "outputs": []
    },
    {
      "cell_type": "code",
      "metadata": {
        "id": "6E4N5XgVOjes"
      },
      "source": [
        "#Merging Future Dates and Predicted Values\n",
        "final=dates.merge(output,how='left',on=dates.index)\n",
        "#Reset Index\n",
        "final.set_index(0,inplace=True)\n",
        "#Drop Previous Index\n",
        "final.drop(columns='key_0', inplace=True)"
      ],
      "execution_count": 40,
      "outputs": []
    },
    {
      "cell_type": "code",
      "metadata": {
        "id": "UaCvhAsrOojj"
      },
      "source": [
        "#Rename the Dataframe Name\n",
        "final.rename(columns = {0:\"Predicted\"}, inplace = True)\n",
        "final.index.names = ['Date']"
      ],
      "execution_count": 42,
      "outputs": []
    },
    {
      "cell_type": "code",
      "metadata": {
        "colab": {
          "base_uri": "https://localhost:8080/"
        },
        "id": "br-WllGYO6IZ",
        "outputId": "33c11957-7d39-4d0a-c060-878ea8725306"
      },
      "source": [
        "#Table of Next 30 Days Forecast\n",
        "print(\"\"\"Next 30 Days Forecasted Close Price\"\"\")\n",
        "#Creating a Table to store the above output.\n",
        "\n",
        "from tabulate import tabulate\n",
        "print(tabulate(final,headers=\"keys\",tablefmt=\"fancy_grid\"))"
      ],
      "execution_count": 44,
      "outputs": [
        {
          "output_type": "stream",
          "text": [
            "Next 30 Days Forecasted Close Price\n",
            "╒════════════╤═════════════╕\n",
            "│ Date       │   Predicted │\n",
            "╞════════════╪═════════════╡\n",
            "│ 2021-05-03 │     1.44656 │\n",
            "├────────────┼─────────────┤\n",
            "│ 2021-05-04 │     1.43449 │\n",
            "├────────────┼─────────────┤\n",
            "│ 2021-05-05 │     1.45044 │\n",
            "├────────────┼─────────────┤\n",
            "│ 2021-05-06 │     1.44264 │\n",
            "├────────────┼─────────────┤\n",
            "│ 2021-05-07 │     1.45315 │\n",
            "├────────────┼─────────────┤\n",
            "│ 2021-05-10 │     1.45418 │\n",
            "├────────────┼─────────────┤\n",
            "│ 2021-05-11 │     1.47411 │\n",
            "├────────────┼─────────────┤\n",
            "│ 2021-05-12 │     1.45144 │\n",
            "├────────────┼─────────────┤\n",
            "│ 2021-05-13 │     1.46732 │\n",
            "├────────────┼─────────────┤\n",
            "│ 2021-05-14 │     1.44795 │\n",
            "├────────────┼─────────────┤\n",
            "│ 2021-05-17 │     1.48464 │\n",
            "├────────────┼─────────────┤\n",
            "│ 2021-05-18 │     1.47128 │\n",
            "├────────────┼─────────────┤\n",
            "│ 2021-05-19 │     1.46514 │\n",
            "├────────────┼─────────────┤\n",
            "│ 2021-05-20 │     1.4679  │\n",
            "├────────────┼─────────────┤\n",
            "│ 2021-05-21 │     1.4691  │\n",
            "├────────────┼─────────────┤\n",
            "│ 2021-05-24 │     1.49966 │\n",
            "├────────────┼─────────────┤\n",
            "│ 2021-05-25 │     1.47695 │\n",
            "├────────────┼─────────────┤\n",
            "│ 2021-05-26 │     1.48668 │\n",
            "├────────────┼─────────────┤\n",
            "│ 2021-05-27 │     1.47753 │\n",
            "├────────────┼─────────────┤\n",
            "│ 2021-05-28 │     1.48554 │\n",
            "├────────────┼─────────────┤\n",
            "│ 2021-05-31 │     1.47035 │\n",
            "├────────────┼─────────────┤\n",
            "│ 2021-06-01 │     1.48157 │\n",
            "├────────────┼─────────────┤\n",
            "│ 2021-06-02 │     1.49524 │\n",
            "├────────────┼─────────────┤\n",
            "│ 2021-06-03 │     1.4927  │\n",
            "├────────────┼─────────────┤\n",
            "│ 2021-06-04 │     1.49017 │\n",
            "├────────────┼─────────────┤\n",
            "│ 2021-06-07 │     1.48452 │\n",
            "├────────────┼─────────────┤\n",
            "│ 2021-06-08 │     1.50734 │\n",
            "├────────────┼─────────────┤\n",
            "│ 2021-06-09 │     1.50183 │\n",
            "├────────────┼─────────────┤\n",
            "│ 2021-06-10 │     1.51317 │\n",
            "├────────────┼─────────────┤\n",
            "│ 2021-06-11 │     1.50605 │\n",
            "╘════════════╧═════════════╛\n"
          ],
          "name": "stdout"
        }
      ]
    }
  ]
}